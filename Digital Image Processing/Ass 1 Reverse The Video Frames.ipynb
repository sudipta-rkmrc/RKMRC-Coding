{
 "cells": [
  {
   "cell_type": "markdown",
   "id": "ecf4de2a-c84b-46a2-ab55-7da71e55e7ed",
   "metadata": {},
   "source": [
    "# 1.Take a video as input and break the video into frame by frame and save those frame. Play video in reverse mode."
   ]
  },
  {
   "cell_type": "code",
   "execution_count": 3,
   "id": "8048ad09-6be4-439b-9f0a-24db26e1e125",
   "metadata": {},
   "outputs": [],
   "source": [
    "import cv2"
   ]
  },
  {
   "cell_type": "code",
   "execution_count": 4,
   "id": "ed090750-540e-4762-a0af-e5ea5eaca9ff",
   "metadata": {},
   "outputs": [],
   "source": [
    "def reverse_video(input_path, output_path):\n",
    "    video_capture = cv2.VideoCapture(input_path)\n",
    "    fps = video_capture.get(cv2.CAP_PROP_FPS)\n",
    "    frame_count = int(video_capture.get(cv2.CAP_PROP_FRAME_COUNT))\n",
    "    width = int(video_capture.get(cv2.CAP_PROP_FRAME_WIDTH))\n",
    "    height = int(video_capture.get(cv2.CAP_PROP_FRAME_HEIGHT))\n",
    "\n",
    "    fourcc = cv2.VideoWriter_fourcc(*'XVID')\n",
    "    out = cv2.VideoWriter(output_path, fourcc, fps, (width, height))\n",
    "\n",
    "    frames = []\n",
    "    while True:\n",
    "        ret, frame = video_capture.read()\n",
    "        if not ret:\n",
    "            break\n",
    "        frames.append(frame)\n",
    "\n",
    "    for frame in reversed(frames):\n",
    "        out.write(frame)\n",
    "\n",
    "    video_capture.release()\n",
    "    out.release()\n",
    "    cv2.destroyAllWindows()"
   ]
  },
  {
   "cell_type": "code",
   "execution_count": 8,
   "id": "1d80a9b9-672f-441b-9403-10d44409d1ef",
   "metadata": {},
   "outputs": [
    {
     "name": "stdout",
     "output_type": "stream",
     "text": [
      "Video reversal complete!\n"
     ]
    }
   ],
   "source": [
    "    input_video_path = 'vtest.avi'\n",
    "    output_video_path = 'reversed_video.avi'\n",
    "\n",
    "    reverse_video(input_video_path, output_video_path)\n",
    "    print(\"Video reversal complete!\")"
   ]
  },
  {
   "cell_type": "code",
   "execution_count": 6,
   "id": "78688058-5699-45b1-9638-6b585961afcf",
   "metadata": {},
   "outputs": [],
   "source": [
    "def play_video(video_path):\n",
    "    video_capture = cv2.VideoCapture(video_path)\n",
    "\n",
    "    while True:\n",
    "        ret, frame = video_capture.read()\n",
    "        if not ret:\n",
    "            break\n",
    "        \n",
    "        cv2.imshow('Reversed Video', frame)\n",
    "\n",
    "        if cv2.waitKey(25) & 0xFF == ord('q'):\n",
    "            break\n",
    "\n",
    "\n",
    "    video_capture.release()\n",
    "    cv2.destroyAllWindows()\n",
    "\n"
   ]
  },
  {
   "cell_type": "code",
   "execution_count": 7,
   "id": "c88425ee-db4d-485c-9840-397880110f24",
   "metadata": {},
   "outputs": [],
   "source": [
    "reversed_video_path = 'reversed_video.avi'\n",
    "play_video(reversed_video_path)\n"
   ]
  },
  {
   "cell_type": "code",
   "execution_count": null,
   "id": "d708f991-a19d-4aac-b318-24d9c2aee880",
   "metadata": {},
   "outputs": [],
   "source": []
  }
 ],
 "metadata": {
  "kernelspec": {
   "display_name": "Python 3",
   "language": "python",
   "name": "python3"
  },
  "language_info": {
   "codemirror_mode": {
    "name": "ipython",
    "version": 3
   },
   "file_extension": ".py",
   "mimetype": "text/x-python",
   "name": "python",
   "nbconvert_exporter": "python",
   "pygments_lexer": "ipython3",
   "version": "3.9.0"
  }
 },
 "nbformat": 4,
 "nbformat_minor": 5
}
