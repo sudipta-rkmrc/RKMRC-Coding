{
 "cells": [
  {
   "cell_type": "markdown",
   "id": "46cd9fe5-26c4-48b5-8e51-43f7e40ca7d3",
   "metadata": {},
   "source": [
    "# DFT"
   ]
  },
  {
   "cell_type": "code",
   "execution_count": 1,
   "id": "28256368-0b6b-47cf-b618-b403267f3457",
   "metadata": {},
   "outputs": [],
   "source": [
    "import numpy as np\n",
    "import cv2\n",
    "import matplotlib.pyplot as plt"
   ]
  },
  {
   "cell_type": "code",
   "execution_count": 2,
   "id": "f42e9a03-db14-4105-9def-cfd7da83c31f",
   "metadata": {},
   "outputs": [],
   "source": [
    "def dft_image(image):\n",
    "    # Convert image to grayscale if it's a color image\n",
    "    if len(image.shape) == 3:\n",
    "        image = cv2.cvtColor(image, cv2.COLOR_BGR2GRAY)\n",
    "\n",
    "    M, N = image.shape\n",
    "    dft_result = np.zeros((M, N), dtype=complex)\n",
    "\n",
    "    for u in range(M):\n",
    "        for v in range(N):\n",
    "            sum_value = 0\n",
    "            for x in range(M):\n",
    "                for y in range(N):\n",
    "                    sum_value += image[x, y] * np.exp(-2j * np.pi * ((u * x) / M + (v * y) / N))\n",
    "            dft_result[u, v] = sum_value / (M * N)\n",
    "\n",
    "    magnitude_spectrum = np.abs(dft_result)\n",
    "    magnitude_spectrum = 20 * np.log(magnitude_spectrum)\n",
    "\n",
    "    return magnitude_spectrum"
   ]
  },
  {
   "cell_type": "code",
   "execution_count": 3,
   "id": "1e899136-4192-48ef-a05e-a6b6928699ad",
   "metadata": {},
   "outputs": [
    {
     "ename": "KeyboardInterrupt",
     "evalue": "",
     "output_type": "error",
     "traceback": [
      "\u001b[1;31m---------------------------------------------------------------------------\u001b[0m",
      "\u001b[1;31mKeyboardInterrupt\u001b[0m                         Traceback (most recent call last)",
      "Cell \u001b[1;32mIn[3], line 4\u001b[0m\n\u001b[0;32m      1\u001b[0m image_path \u001b[38;5;241m=\u001b[39m \u001b[38;5;124m\"\u001b[39m\u001b[38;5;124mlena.tiff\u001b[39m\u001b[38;5;124m\"\u001b[39m  \n\u001b[0;32m      2\u001b[0m image \u001b[38;5;241m=\u001b[39m cv2\u001b[38;5;241m.\u001b[39mimread(image_path, \u001b[38;5;241m0\u001b[39m)  \n\u001b[1;32m----> 4\u001b[0m magnitude_spectrum \u001b[38;5;241m=\u001b[39m \u001b[43mdft_image\u001b[49m\u001b[43m(\u001b[49m\u001b[43mimage\u001b[49m\u001b[43m)\u001b[49m\n\u001b[0;32m      7\u001b[0m plt\u001b[38;5;241m.\u001b[39msubplot(\u001b[38;5;241m1\u001b[39m, \u001b[38;5;241m2\u001b[39m, \u001b[38;5;241m1\u001b[39m), plt\u001b[38;5;241m.\u001b[39mimshow(image, cmap\u001b[38;5;241m=\u001b[39m\u001b[38;5;124m'\u001b[39m\u001b[38;5;124mgray\u001b[39m\u001b[38;5;124m'\u001b[39m)\n\u001b[0;32m      8\u001b[0m plt\u001b[38;5;241m.\u001b[39mtitle(\u001b[38;5;124m'\u001b[39m\u001b[38;5;124mOriginal Image\u001b[39m\u001b[38;5;124m'\u001b[39m), plt\u001b[38;5;241m.\u001b[39mxticks([]), plt\u001b[38;5;241m.\u001b[39myticks([])\n",
      "Cell \u001b[1;32mIn[2], line 14\u001b[0m, in \u001b[0;36mdft_image\u001b[1;34m(image)\u001b[0m\n\u001b[0;32m     12\u001b[0m         \u001b[38;5;28;01mfor\u001b[39;00m x \u001b[38;5;129;01min\u001b[39;00m \u001b[38;5;28mrange\u001b[39m(M):\n\u001b[0;32m     13\u001b[0m             \u001b[38;5;28;01mfor\u001b[39;00m y \u001b[38;5;129;01min\u001b[39;00m \u001b[38;5;28mrange\u001b[39m(N):\n\u001b[1;32m---> 14\u001b[0m                 sum_value \u001b[38;5;241m+\u001b[39m\u001b[38;5;241m=\u001b[39m image[x, y] \u001b[38;5;241m*\u001b[39m np\u001b[38;5;241m.\u001b[39mexp(\u001b[38;5;241m-\u001b[39m\u001b[38;5;241m2\u001b[39mj \u001b[38;5;241m*\u001b[39m np\u001b[38;5;241m.\u001b[39mpi \u001b[38;5;241m*\u001b[39m ((u \u001b[38;5;241m*\u001b[39m x) \u001b[38;5;241m/\u001b[39m M \u001b[38;5;241m+\u001b[39m (\u001b[43mv\u001b[49m\u001b[43m \u001b[49m\u001b[38;5;241;43m*\u001b[39;49m\u001b[43m \u001b[49m\u001b[43my\u001b[49m) \u001b[38;5;241m/\u001b[39m N))\n\u001b[0;32m     15\u001b[0m         dft_result[u, v] \u001b[38;5;241m=\u001b[39m sum_value \u001b[38;5;241m/\u001b[39m (M \u001b[38;5;241m*\u001b[39m N)\n\u001b[0;32m     17\u001b[0m magnitude_spectrum \u001b[38;5;241m=\u001b[39m np\u001b[38;5;241m.\u001b[39mabs(dft_result)\n",
      "\u001b[1;31mKeyboardInterrupt\u001b[0m: "
     ]
    }
   ],
   "source": [
    "image_path = \"lena.tiff\"  \n",
    "image = cv2.imread(image_path, 0)  \n",
    "\n",
    "magnitude_spectrum = dft_image(image)\n",
    "\n",
    "\n",
    "plt.subplot(1, 2, 1), plt.imshow(image, cmap='gray')\n",
    "plt.title('Original Image'), plt.xticks([]), plt.yticks([])\n",
    "plt.subplot(1, 2, 2), plt.imshow(magnitude_spectrum, cmap='gray')\n",
    "plt.title('DFT Image'), plt.xticks([]), plt.yticks([])\n",
    "plt.show()"
   ]
  },
  {
   "cell_type": "markdown",
   "id": "19ea884d-135d-4d4f-b04f-785ea72b86f0",
   "metadata": {},
   "source": [
    "# Center Shifting"
   ]
  },
  {
   "cell_type": "code",
   "execution_count": null,
   "id": "128f77be-6036-47f2-93ba-352f0ca92f20",
   "metadata": {},
   "outputs": [],
   "source": [
    "def center_shift(image):\n",
    "    M, N = image.shape\n",
    "    center_x, center_y = M // 2, N // 2\n",
    "    shifted_image = np.zeros_like(image)\n",
    "\n",
    "    shifted_image[:center_x, :center_y] = image[center_x:, center_y:]\n",
    "    shifted_image[center_x:, center_y:] = image[:center_x, :center_y]\n",
    "    shifted_image[center_x:, :center_y] = image[:center_x, center_y:]\n",
    "    shifted_image[:center_x, center_y:] = image[center_x:, :center_y]\n",
    "\n",
    "    return shifted_image\n"
   ]
  },
  {
   "cell_type": "code",
   "execution_count": null,
   "id": "0a963466-b30c-4fc7-871e-517d995d3a6f",
   "metadata": {},
   "outputs": [],
   "source": [
    "def dft_image(image):\n",
    "    if len(image.shape) == 3:\n",
    "        image = cv2.cvtColor(image, cv2.COLOR_BGR2GRAY)\n",
    "\n",
    "    M, N = image.shape\n",
    "    dft_result = np.zeros((M, N), dtype=complex)\n",
    "\n",
    "    for u in range(M):\n",
    "        for v in range(N):\n",
    "            sum_value = 0\n",
    "            for x in range(M):\n",
    "                for y in range(N):\n",
    "                    sum_value += image[x, y] * np.exp(-2j * np.pi * ((u * x) / M + (v * y) / N))\n",
    "            dft_result[u, v] = sum_value / (M * N)\n",
    "\n",
    "    magnitude_spectrum = np.abs(dft_result)\n",
    "    magnitude_spectrum = 20 * np.log(magnitude_spectrum)\n",
    "\n",
    "    return magnitude_spectrum"
   ]
  },
  {
   "cell_type": "code",
   "execution_count": null,
   "id": "7d54d960-efc5-4d15-831a-b449cfc73283",
   "metadata": {},
   "outputs": [],
   "source": [
    "image_path = \"lena.tiff\" \n",
    "image = cv2.imread(image_path, 0)  \n",
    "\n",
    "\n",
    "magnitude_spectrum = dft_image(image)\n",
    "\n",
    "\n",
    "shifted_magnitude_spectrum = center_shift(magnitude_spectrum)\n",
    "\n",
    "\n",
    "plt.subplot(1, 2, 1), plt.imshow(magnitude_spectrum, cmap='gray')\n",
    "plt.title('Original DFT Image'), plt.xticks([]), plt.yticks([])\n",
    "plt.subplot(1, 2, 2), plt.imshow(shifted_magnitude_spectrum, cmap='gray')\n",
    "plt.title('Shifted DFT Image'), plt.xticks([]), plt.yticks([])\n",
    "plt.show()"
   ]
  },
  {
   "cell_type": "markdown",
   "id": "fb7a7660-3e8b-4c98-a0dd-69b0156fd16a",
   "metadata": {},
   "source": [
    "# Frequency Domain Filtering "
   ]
  },
  {
   "cell_type": "code",
   "execution_count": null,
   "id": "77b0636a-cca9-461e-b908-c4414e720961",
   "metadata": {},
   "outputs": [],
   "source": [
    "def dft_image(image):\n",
    "    if len(image.shape) == 3:\n",
    "        image = cv2.cvtColor(image, cv2.COLOR_BGR2GRAY)\n",
    "\n",
    "    M, N = image.shape\n",
    "    dft_result = np.zeros((M, N), dtype=complex)\n",
    "\n",
    "    for u in range(M):\n",
    "        for v in range(N):\n",
    "            sum_value = 0\n",
    "            for x in range(M):\n",
    "                for y in range(N):\n",
    "                    sum_value += image[x, y] * np.exp(-2j * np.pi * ((u * x) / M + (v * y) / N))\n",
    "            dft_result[u, v] = sum_value / (M * N)\n",
    "\n",
    "    return dft_result\n",
    "\n",
    "def gaussian_filter(shape, sigma):\n",
    "    m, n = [(ss-1.)/2. for ss in shape]\n",
    "    y, x = np.ogrid[-m:m+1,-n:n+1]\n",
    "    h = np.exp( -(x*x + y*y) / (2.*sigma*sigma) )\n",
    "    h[ h < np.finfo(h.dtype).eps*h.max() ] = 0\n",
    "    return h\n",
    "\n",
    "def gaussian_filter_in_frequency_domain(image, sigma):\n",
    "    M, N = image.shape\n",
    "    gaussian_filter_fft = np.fft.fftshift(np.fft.fft2(gaussian_filter((M, N), sigma)))\n",
    "\n",
    "    image_fft = np.fft.fft2(image)\n",
    "    filtered_image_fft = image_fft * gaussian_filter_fft\n",
    "\n",
    "    return np.fft.ifft2(filtered_image_fft)\n",
    "\n"
   ]
  },
  {
   "cell_type": "code",
   "execution_count": null,
   "id": "4f890f8c-15c1-40da-91ed-29439138a0c9",
   "metadata": {},
   "outputs": [],
   "source": [
    "image_path = \"lena.tiff\"  \n",
    "image = cv2.imread(image_path, 0)  \n",
    "\n",
    "\n",
    "sigma = 10\n",
    "filtered_image = gaussian_filter_in_frequency_domain(image, sigma)\n",
    "\n",
    "\n",
    "plt.subplot(1, 2, 1), plt.imshow(image, cmap='gray')\n",
    "plt.title('Original Image'), plt.xticks([]), plt.yticks([])\n",
    "plt.subplot(1, 2, 2), plt.imshow(np.abs(filtered_image), cmap='gray')\n",
    "plt.title('Gaussian Filtered Image'), plt.xticks([]), plt.yticks([])\n",
    "plt.show()\n"
   ]
  }
 ],
 "metadata": {
  "kernelspec": {
   "display_name": "Python 3",
   "language": "python",
   "name": "python3"
  },
  "language_info": {
   "codemirror_mode": {
    "name": "ipython",
    "version": 3
   },
   "file_extension": ".py",
   "mimetype": "text/x-python",
   "name": "python",
   "nbconvert_exporter": "python",
   "pygments_lexer": "ipython3",
   "version": "3.9.0"
  }
 },
 "nbformat": 4,
 "nbformat_minor": 5
}
