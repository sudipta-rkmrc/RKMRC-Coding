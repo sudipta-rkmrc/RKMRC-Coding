{
 "cells": [
  {
   "cell_type": "markdown",
   "id": "691631fc-c8f9-4f66-a39e-07166aedcc1e",
   "metadata": {},
   "source": [
    "# LZW Encoding And Decoding"
   ]
  },
  {
   "cell_type": "code",
   "execution_count": 1,
   "id": "37404360-bfd0-43f8-99fa-16e0e2368e7f",
   "metadata": {},
   "outputs": [],
   "source": [
    "def lzw_encode(data):\n",
    "    dictionary = {chr(i): i for i in range(256)}\n",
    "    encoded_data = []\n",
    "    current_code = 256\n",
    "    buffer = ''\n",
    "    for symbol in data:\n",
    "        if buffer + symbol in dictionary:\n",
    "            buffer += symbol\n",
    "        else:\n",
    "            encoded_data.append(dictionary[buffer])\n",
    "            dictionary[buffer + symbol] = current_code\n",
    "            current_code += 1\n",
    "            buffer = symbol\n",
    "    if buffer:\n",
    "        encoded_data.append(dictionary[buffer])\n",
    "    return encoded_data"
   ]
  },
  {
   "cell_type": "code",
   "execution_count": 2,
   "id": "8545697b-6f54-4b69-b8a7-a36a014bf3fc",
   "metadata": {},
   "outputs": [],
   "source": [
    "def lzw_decode(encoded_data):\n",
    "    dictionary = {i: chr(i) for i in range(256)}\n",
    "    decoded_data = []\n",
    "    current_code = 256\n",
    "    previous_code = encoded_data[0]\n",
    "    decoded_data.append(dictionary[previous_code])\n",
    "    for code in encoded_data[1:]:\n",
    "        if code in dictionary:\n",
    "            entry = dictionary[code]\n",
    "        elif code == current_code:\n",
    "            entry = dictionary[previous_code] + dictionary[previous_code][0]\n",
    "        else:\n",
    "            raise ValueError(\"Bad compressed code\")\n",
    "\n",
    "        decoded_data.append(entry)\n",
    "        dictionary[current_code] = dictionary[previous_code] + entry[0]\n",
    "        current_code += 1\n",
    "        previous_code = code\n",
    "    return ''.join(decoded_data)"
   ]
  },
  {
   "cell_type": "code",
   "execution_count": 3,
   "id": "5bae5c34-aac1-44c5-8cae-3d5a25f08be1",
   "metadata": {},
   "outputs": [
    {
     "name": "stdout",
     "output_type": "stream",
     "text": [
      "Encoded data: [84, 79, 66, 69, 79, 82, 78, 79, 84, 256, 258, 260, 265, 259, 261, 263]\n"
     ]
    }
   ],
   "source": [
    "original_text = \"TOBEORNOTTOBEORTOBEORNOT\"\n",
    "encoded_text = lzw_encode(original_text)\n",
    "print(\"Encoded data:\", encoded_text)"
   ]
  },
  {
   "cell_type": "code",
   "execution_count": 4,
   "id": "b0aaaf74-d58b-4bbb-a258-ed67c3b1326c",
   "metadata": {},
   "outputs": [
    {
     "name": "stdout",
     "output_type": "stream",
     "text": [
      "Decoded data: TOBEORNOTTOBEORTOBEORNOT\n"
     ]
    }
   ],
   "source": [
    "decoded_text = lzw_decode(encoded_text)\n",
    "print(\"Decoded data:\", decoded_text)"
   ]
  },
  {
   "cell_type": "markdown",
   "id": "7a2c8f95-aedf-4dd2-99ab-106f2afdf3d2",
   "metadata": {},
   "source": [
    "# Arithmetic Encoding "
   ]
  },
  {
   "cell_type": "code",
   "execution_count": 5,
   "id": "5e93f0bd-a5d8-48eb-bb07-d3873d4d2918",
   "metadata": {},
   "outputs": [],
   "source": [
    "class ArithmeticEncoder:\n",
    "    def __init__(self):\n",
    "        self.low = 0\n",
    "        self.high = 1\n",
    "        self.range = 1\n",
    "\n",
    "    def encode(self, data, probabilities):\n",
    "        for symbol in data:\n",
    "            symbol_range = probabilities[symbol]\n",
    "            self.update_range(symbol_range)\n",
    "        return self.low\n",
    "\n",
    "    def update_range(self, symbol_range):\n",
    "        range_size = self.high - self.low\n",
    "        self.high = self.low + range_size * symbol_range[1]\n",
    "        self.low = self.low + range_size * symbol_range[0]\n",
    "\n",
    "    def normalize_range(self):\n",
    "        while True:\n",
    "            if self.high < 0.5:\n",
    "                self.low *= 2\n",
    "                self.high *= 2\n",
    "                self.range *= 2\n",
    "            elif self.low >= 0.5:\n",
    "                self.low = 2 * (self.low - 0.5)\n",
    "                self.high = 2 * (self.high - 0.5)\n",
    "                self.range *= 2\n",
    "            elif 0.25 <= self.low < 0.75 and 0.25 < self.high <= 0.75:\n",
    "                self.low = 2 * (self.low - 0.25)\n",
    "                self.high = 2 * (self.high - 0.25)\n",
    "                self.range *= 2\n",
    "            else:\n",
    "                break\n",
    "\n",
    "    def get_encoded_value(self, data, probabilities):\n",
    "        self.low = 0\n",
    "        self.high = 1\n",
    "        self.range = 1\n",
    "        encoded_value = self.encode(data, probabilities)\n",
    "        self.normalize_range()\n",
    "        return encoded_value\n"
   ]
  },
  {
   "cell_type": "code",
   "execution_count": 6,
   "id": "15e210b5-607b-49d9-ad68-593745b8ffed",
   "metadata": {},
   "outputs": [],
   "source": [
    "class ArithmeticDecoder:\n",
    "    def __init__(self):\n",
    "        self.code = 0\n",
    "        self.low = 0\n",
    "        self.high = 1\n",
    "\n",
    "    def decode(self, encoded_value, data_length, probabilities):\n",
    "        decoded_data = []\n",
    "        self.code = encoded_value\n",
    "        for _ in range(data_length):\n",
    "            symbol = self.decode_symbol(probabilities)\n",
    "            decoded_data.append(symbol)\n",
    "        return decoded_data\n",
    "\n",
    "    def decode_symbol(self, probabilities):\n",
    "        range_size = self.high - self.low\n",
    "        for symbol, (low_range, high_range) in probabilities.items():\n",
    "            symbol_range_size = high_range - low_range\n",
    "            if (self.code - self.low) / range_size <= high_range and (self.code - self.low) / range_size > low_range:\n",
    "                self.low = self.low + range_size * low_range\n",
    "                self.high = self.low + range_size * symbol_range_size\n",
    "                return symbol\n",
    "\n",
    "    def normalize_range(self):\n",
    "        while True:\n",
    "            if self.high < 0.5:\n",
    "                self.low *= 2\n",
    "                self.high *= 2\n",
    "            elif self.low >= 0.5:\n",
    "                self.low = 2 * (self.low - 0.5)\n",
    "                self.high = 2 * (self.high - 0.5)\n",
    "            elif 0.25 <= self.low < 0.75 and 0.25 < self.high <= 0.75:\n",
    "                self.low = 2 * (self.low - 0.25)\n",
    "                self.high = 2 * (self.high - 0.25)\n",
    "            else:\n",
    "                break\n",
    "\n",
    "    def get_decoded_data(self, encoded_value, data_length, probabilities):\n",
    "        self.low = 0\n",
    "        self.high = 1\n",
    "        self.code = encoded_value\n",
    "        decoded_data = self.decode(encoded_value, data_length, probabilities)\n",
    "        self.normalize_range()\n",
    "        return decoded_data"
   ]
  },
  {
   "cell_type": "code",
   "execution_count": 7,
   "id": "e6bf559c-a3d3-47f0-9b4d-21f7f06f944d",
   "metadata": {},
   "outputs": [],
   "source": [
    "data = \"ABBABBABBA\"\n",
    "probabilities = {'A': (0, 0.5), 'B': (0.5, 1)}"
   ]
  },
  {
   "cell_type": "code",
   "execution_count": 8,
   "id": "852eeaa1-8c4e-4365-bd74-5ab97317bbb5",
   "metadata": {},
   "outputs": [
    {
     "name": "stdout",
     "output_type": "stream",
     "text": [
      "Encoded value: 0.427734375\n"
     ]
    }
   ],
   "source": [
    "encoder = ArithmeticEncoder()\n",
    "encoded_value = encoder.get_encoded_value(data, probabilities)\n",
    "print(\"Encoded value:\", encoded_value)"
   ]
  },
  {
   "cell_type": "code",
   "execution_count": 9,
   "id": "f7123aa6-850e-4a6b-90bd-01e3b412d68e",
   "metadata": {},
   "outputs": [
    {
     "name": "stdout",
     "output_type": "stream",
     "text": [
      "Decoded data: ABBABBABAB\n"
     ]
    }
   ],
   "source": [
    "decoder = ArithmeticDecoder()\n",
    "decoded_data = decoder.get_decoded_data(encoded_value, len(data), probabilities)\n",
    "print(\"Decoded data:\", ''.join(decoded_data))"
   ]
  },
  {
   "cell_type": "code",
   "execution_count": null,
   "id": "5c2bb691-aeca-4aee-bd8f-cb0e3f21ec9c",
   "metadata": {},
   "outputs": [],
   "source": []
  }
 ],
 "metadata": {
  "kernelspec": {
   "display_name": "Python 3",
   "language": "python",
   "name": "python3"
  },
  "language_info": {
   "codemirror_mode": {
    "name": "ipython",
    "version": 3
   },
   "file_extension": ".py",
   "mimetype": "text/x-python",
   "name": "python",
   "nbconvert_exporter": "python",
   "pygments_lexer": "ipython3",
   "version": "3.9.0"
  }
 },
 "nbformat": 4,
 "nbformat_minor": 5
}
