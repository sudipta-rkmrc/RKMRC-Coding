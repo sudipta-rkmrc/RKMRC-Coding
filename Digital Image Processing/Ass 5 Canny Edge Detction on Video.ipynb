{
 "cells": [
  {
   "cell_type": "markdown",
   "id": "90924726-37d6-4805-95f6-7c35679debab",
   "metadata": {},
   "source": [
    "# 5. Read a small video and convert every frame to Canny edge frames."
   ]
  },
  {
   "cell_type": "code",
   "execution_count": 1,
   "id": "5e3877a8-0251-4f39-b13a-7d5d728f7c12",
   "metadata": {},
   "outputs": [],
   "source": [
    "import cv2"
   ]
  },
  {
   "cell_type": "code",
   "execution_count": 2,
   "id": "8003b3b8-7a19-4492-8a1a-b4cfab334600",
   "metadata": {},
   "outputs": [],
   "source": [
    "def apply_canny_edge_detection(input_path, output_path):\n",
    " \n",
    "    video_capture = cv2.VideoCapture(input_path)\n",
    "\n",
    "    \n",
    "    fps = video_capture.get(cv2.CAP_PROP_FPS)\n",
    "    width = int(video_capture.get(cv2.CAP_PROP_FRAME_WIDTH))\n",
    "    height = int(video_capture.get(cv2.CAP_PROP_FRAME_HEIGHT))\n",
    "\n",
    "    \n",
    "    fourcc = cv2.VideoWriter_fourcc(*'XVID')\n",
    "    out = cv2.VideoWriter(output_path, fourcc, fps, (width, height), isColor=False)\n",
    "\n",
    "    while True:\n",
    "        \n",
    "        ret, frame = video_capture.read()\n",
    "        if not ret:\n",
    "            break\n",
    "\n",
    "        \n",
    "        gray_frame = cv2.cvtColor(frame, cv2.COLOR_BGR2GRAY)\n",
    "\n",
    "        \n",
    "        edges = cv2.Canny(gray_frame, threshold1=100, threshold2=200)  # Adjust thresholds as needed\n",
    "\n",
    "     \n",
    "        out.write(edges)\n",
    "\n",
    "      \n",
    "        cv2.imshow('Canny Edge Detection', edges)\n",
    "\n",
    "        \n",
    "        if cv2.waitKey(25) & 0xFF == ord('q'):\n",
    "            break\n",
    "\n",
    "   \n",
    "    video_capture.release()\n",
    "    out.release()\n",
    "    cv2.destroyAllWindows()\n"
   ]
  },
  {
   "cell_type": "code",
   "execution_count": 5,
   "id": "688b48a7-2061-4d33-9226-73da65a8f71a",
   "metadata": {},
   "outputs": [
    {
     "name": "stdout",
     "output_type": "stream",
     "text": [
      "Canny edge detection on video complete!\n"
     ]
    }
   ],
   "source": [
    " input_video_path = 'vtest.avi'\n",
    "output_video_path = 'canny_edges_output.avi'\n",
    "\n",
    "apply_canny_edge_detection(input_video_path, output_video_path)\n",
    " print(\"Canny edge detection on video complete!\")\n"
   ]
  },
  {
   "cell_type": "code",
   "execution_count": null,
   "id": "e16a0f76-4802-4016-9e71-e823ea510494",
   "metadata": {},
   "outputs": [],
   "source": []
  }
 ],
 "metadata": {
  "kernelspec": {
   "display_name": "Python 3",
   "language": "python",
   "name": "python3"
  },
  "language_info": {
   "codemirror_mode": {
    "name": "ipython",
    "version": 3
   },
   "file_extension": ".py",
   "mimetype": "text/x-python",
   "name": "python",
   "nbconvert_exporter": "python",
   "pygments_lexer": "ipython3",
   "version": "3.9.0"
  }
 },
 "nbformat": 4,
 "nbformat_minor": 5
}
