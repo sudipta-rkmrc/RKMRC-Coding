{
 "cells": [
  {
   "cell_type": "code",
   "execution_count": 1,
   "id": "530e49eb",
   "metadata": {},
   "outputs": [],
   "source": [
    "import statistics as st\n",
    "import numpy as np\n",
    "import scipy\n",
    "import matplotlib.pyplot as plt\n",
    "import pandas as pd"
   ]
  },
  {
   "cell_type": "markdown",
   "id": "2777d446",
   "metadata": {},
   "source": [
    "#                    A) DECSRIPTIVE STATISTICS         "
   ]
  },
  {
   "cell_type": "markdown",
   "id": "8d551a86",
   "metadata": {},
   "source": [
    "# 1) Central Tendency"
   ]
  },
  {
   "cell_type": "code",
   "execution_count": 2,
   "id": "36f714f6",
   "metadata": {},
   "outputs": [],
   "source": [
    "data=[2,4,7,10,20,23,4,2,2,4,7,10,7,42,2,4,7,10,20,23,4,2,2,4,7,10,7,42,2,4,7,10,20,23,4,2,2,4,7,10,7,42]"
   ]
  },
  {
   "cell_type": "code",
   "execution_count": 3,
   "id": "a78afc90",
   "metadata": {},
   "outputs": [
    {
     "name": "stdout",
     "output_type": "stream",
     "text": [
      "Mean 10.285714285714286\n"
     ]
    }
   ],
   "source": [
    "print(\"Mean\",st.mean(data))"
   ]
  },
  {
   "cell_type": "code",
   "execution_count": 4,
   "id": "2c9c2de3",
   "metadata": {},
   "outputs": [
    {
     "name": "stdout",
     "output_type": "stream",
     "text": [
      "Median 7.0\n"
     ]
    }
   ],
   "source": [
    "print(\"Median\",st.median(data))"
   ]
  },
  {
   "cell_type": "code",
   "execution_count": 5,
   "id": "a59dba0c",
   "metadata": {},
   "outputs": [
    {
     "name": "stdout",
     "output_type": "stream",
     "text": [
      "Mode 2\n"
     ]
    }
   ],
   "source": [
    "print(\"Mode\",st.mode(data))"
   ]
  },
  {
   "cell_type": "code",
   "execution_count": 6,
   "id": "8b3b6fc5",
   "metadata": {},
   "outputs": [
    {
     "name": "stdout",
     "output_type": "stream",
     "text": [
      "Max 42\n"
     ]
    }
   ],
   "source": [
    "print(\"Max\",max(data))"
   ]
  },
  {
   "cell_type": "code",
   "execution_count": 7,
   "id": "22da7182",
   "metadata": {},
   "outputs": [
    {
     "name": "stdout",
     "output_type": "stream",
     "text": [
      "Min 2\n"
     ]
    }
   ],
   "source": [
    "print(\"Min\",min(data))"
   ]
  },
  {
   "cell_type": "code",
   "execution_count": 8,
   "id": "2c2e1237",
   "metadata": {},
   "outputs": [
    {
     "name": "stdout",
     "output_type": "stream",
     "text": [
      "Weighted mean= 6.95\n"
     ]
    }
   ],
   "source": [
    "x = [8.0, 1, 2.5, 4, 28.0]\n",
    "w = [0.1, 0.2, 0.3, 0.25, 0.15]\n",
    "wmean = np.average(x, weights=w)\n",
    "print(\"Weighted mean=\",wmean)"
   ]
  },
  {
   "cell_type": "code",
   "execution_count": 9,
   "id": "ef2464b7",
   "metadata": {},
   "outputs": [
    {
     "name": "stdout",
     "output_type": "stream",
     "text": [
      "Harmonic mean= 2.7613412228796843\n"
     ]
    }
   ],
   "source": [
    "hmean = st.harmonic_mean(x)\n",
    "print(\"Harmonic mean=\",hmean)"
   ]
  },
  {
   "cell_type": "code",
   "execution_count": 10,
   "id": "32375f65",
   "metadata": {},
   "outputs": [
    {
     "name": "stdout",
     "output_type": "stream",
     "text": [
      "Geometric mean= 4.67788567485604\n"
     ]
    }
   ],
   "source": [
    "gmean = st.geometric_mean(x)\n",
    "print(\"Geometric mean=\",gmean)"
   ]
  },
  {
   "cell_type": "code",
   "execution_count": 11,
   "id": "e955de92",
   "metadata": {},
   "outputs": [
    {
     "name": "stdout",
     "output_type": "stream",
     "text": [
      "Multi mode\n"
     ]
    },
    {
     "data": {
      "text/plain": [
       "[12, 15]"
      ]
     },
     "execution_count": 11,
     "metadata": {},
     "output_type": "execute_result"
    }
   ],
   "source": [
    "print(\"Multi mode\")\n",
    "v = [12, 15, 12, 15, 21, 15, 12]\n",
    "st.mode(v)  # Raises StatisticsError\n",
    "st.multimode(v)"
   ]
  },
  {
   "cell_type": "code",
   "execution_count": null,
   "id": "526ebeed",
   "metadata": {},
   "outputs": [],
   "source": []
  },
  {
   "cell_type": "markdown",
   "id": "1162a679",
   "metadata": {},
   "source": [
    "# 2) Dispersion"
   ]
  },
  {
   "cell_type": "code",
   "execution_count": 12,
   "id": "d21b87d1",
   "metadata": {},
   "outputs": [
    {
     "name": "stdout",
     "output_type": "stream",
     "text": [
      "Range 40\n"
     ]
    }
   ],
   "source": [
    "print(\"Range\",max(data)-min(data))"
   ]
  },
  {
   "cell_type": "code",
   "execution_count": 13,
   "id": "bd29afda",
   "metadata": {},
   "outputs": [
    {
     "name": "stdout",
     "output_type": "stream",
     "text": [
      "Variance 118.45296167247388\n"
     ]
    }
   ],
   "source": [
    "print(\"Variance\",st.variance(data))"
   ]
  },
  {
   "cell_type": "code",
   "execution_count": 14,
   "id": "a9d89bb8",
   "metadata": {},
   "outputs": [
    {
     "name": "stdout",
     "output_type": "stream",
     "text": [
      "Standard Deviation  10.883609772151603\n"
     ]
    }
   ],
   "source": [
    "print(\"Standard Deviation \",st.stdev(data))"
   ]
  },
  {
   "cell_type": "code",
   "execution_count": 15,
   "id": "22da5edc",
   "metadata": {},
   "outputs": [
    {
     "name": "stdout",
     "output_type": "stream",
     "text": [
      "Population variance  115.6326530612245\n"
     ]
    }
   ],
   "source": [
    "print(\"Population variance \",st.pvariance(data))"
   ]
  },
  {
   "cell_type": "code",
   "execution_count": 16,
   "id": "a4874de1",
   "metadata": {},
   "outputs": [],
   "source": [
    "from scipy import stats"
   ]
  },
  {
   "cell_type": "code",
   "execution_count": 17,
   "id": "4e46c777",
   "metadata": {},
   "outputs": [
    {
     "name": "stdout",
     "output_type": "stream",
     "text": [
      "0th moment 1.0\n",
      "2th moment 115.6326530612245\n"
     ]
    }
   ],
   "source": [
    "print(\"0th moment\",stats.moment(data,moment=0))\n",
    "print(\"2th moment\",stats.moment(data,moment=2))"
   ]
  },
  {
   "cell_type": "code",
   "execution_count": 18,
   "id": "a2b6fa62",
   "metadata": {},
   "outputs": [
    {
     "data": {
      "text/plain": [
       "NormaltestResult(statistic=24.656165648580615, pvalue=4.425696794177774e-06)"
      ]
     },
     "execution_count": 18,
     "metadata": {},
     "output_type": "execute_result"
    }
   ],
   "source": [
    "stats.normaltest(data)"
   ]
  },
  {
   "cell_type": "markdown",
   "id": "c221fc80",
   "metadata": {},
   "source": [
    "# 3) Skewness \n",
    "function test whether the skew is different from the normal distribution. This function tests the null hypothesis that the skewness of the population that the sample was drawn from is the same as that of a corresponding normal distribution."
   ]
  },
  {
   "attachments": {
    "image.png": {
     "image/png": "[encoded data removed]"
    }
   },
   "cell_type": "markdown",
   "id": "8cca5ba7",
   "metadata": {},
   "source": [
    "![image.png](attachment:image.png)"
   ]
  },
  {
   "cell_type": "code",
   "execution_count": 19,
   "id": "7fed2abf",
   "metadata": {},
   "outputs": [
    {
     "name": "stdout",
     "output_type": "stream",
     "text": [
      "Skewtest SkewtestResult(statistic=4.170252001014954, pvalue=3.042630014380147e-05)\n"
     ]
    }
   ],
   "source": [
    "print(\"Skewtest\",stats.skewtest(data))"
   ]
  },
  {
   "cell_type": "markdown",
   "id": "3e89e659",
   "metadata": {},
   "source": [
    "# 4) Kurtosis \n",
    "It is the fourth central moment divided by the square of the variance. It is a measure of the “tailedness” i.e. descriptor of shape of probability distribution of a real-valued random variable. In simple terms, one can say it is a measure of how heavy tail is compared to a normal distribution."
   ]
  },
  {
   "attachments": {
    "image.png": {
     "image/png": "[encoded data removed]"
    }
   },
   "cell_type": "markdown",
   "id": "1c470f1d",
   "metadata": {},
   "source": [
    "![image.png](attachment:image.png)"
   ]
  },
  {
   "cell_type": "code",
   "execution_count": 20,
   "id": "bb55916b",
   "metadata": {},
   "outputs": [
    {
     "data": {
      "text/plain": [
       "2.6937831435246604"
      ]
     },
     "execution_count": 20,
     "metadata": {},
     "output_type": "execute_result"
    }
   ],
   "source": [
    "stats.kurtosis(data)"
   ]
  },
  {
   "cell_type": "code",
   "execution_count": 21,
   "id": "710ff58c",
   "metadata": {},
   "outputs": [
    {
     "data": {
      "text/plain": [
       "KurtosistestResult(statistic=2.695396797618374, pvalue=0.007030485283768377)"
      ]
     },
     "execution_count": 21,
     "metadata": {},
     "output_type": "execute_result"
    }
   ],
   "source": [
    "stats.kurtosistest(data)"
   ]
  },
  {
   "cell_type": "code",
   "execution_count": 22,
   "id": "73f4db5e",
   "metadata": {},
   "outputs": [
    {
     "name": "stderr",
     "output_type": "stream",
     "text": [
      "C:\\Users\\user\\AppData\\Local\\Temp\\ipykernel_9516\\1358659330.py:1: DeprecationWarning: `itemfreq` is deprecated!\n",
      "`itemfreq` is deprecated and will be removed in a future version. Use instead `np.unique(..., return_counts=True)`\n",
      "  stats.itemfreq(data)\n"
     ]
    },
    {
     "data": {
      "text/plain": [
       "array([[ 2,  9],\n",
       "       [ 4,  9],\n",
       "       [ 7,  9],\n",
       "       [10,  6],\n",
       "       [20,  3],\n",
       "       [23,  3],\n",
       "       [42,  3]], dtype=int64)"
      ]
     },
     "execution_count": 22,
     "metadata": {},
     "output_type": "execute_result"
    }
   ],
   "source": [
    "stats.itemfreq(data)"
   ]
  },
  {
   "cell_type": "code",
   "execution_count": 23,
   "id": "b623e491",
   "metadata": {},
   "outputs": [
    {
     "data": {
      "text/plain": [
       "(array([ 2,  4,  7, 10, 20, 23, 42]),\n",
       " array([9, 9, 9, 6, 3, 3, 3], dtype=int64))"
      ]
     },
     "execution_count": 23,
     "metadata": {},
     "output_type": "execute_result"
    }
   ],
   "source": [
    "np.unique(data,return_counts=True)"
   ]
  },
  {
   "cell_type": "markdown",
   "id": "54e6fff7",
   "metadata": {},
   "source": [
    "# 5) Percentiles"
   ]
  },
  {
   "cell_type": "markdown",
   "id": "59c0db01",
   "metadata": {},
   "source": [
    "The sample 𝑝 percentile is the element in the dataset such that 𝑝% of the elements in the dataset are less than or equal to that value. Also, (100 − 𝑝)% of the elements are greater than or equal to that value. If there are two such elements in the dataset, then the sample 𝑝 percentile is their arithmetic mean. Each dataset has three quartiles, which are the percentiles that divide the dataset into four parts:\n",
    "# quantiles\n",
    "If you want to divide your data into several intervals, then you can use statistics.quantiles():"
   ]
  },
  {
   "cell_type": "code",
   "execution_count": 24,
   "id": "9d3bd965",
   "metadata": {},
   "outputs": [
    {
     "data": {
      "text/plain": [
       "[8.0]"
      ]
     },
     "execution_count": 24,
     "metadata": {},
     "output_type": "execute_result"
    }
   ],
   "source": [
    "x = [-5.0, -1.1, 0.1, 2.0, 8.0, 12.8, 21.0, 25.8, 41.0]\n",
    "st.quantiles(x, n=2)"
   ]
  },
  {
   "cell_type": "code",
   "execution_count": 25,
   "id": "531814c4",
   "metadata": {},
   "outputs": [
    {
     "data": {
      "text/plain": [
       "[0.1, 8.0, 21.0]"
      ]
     },
     "execution_count": 25,
     "metadata": {},
     "output_type": "execute_result"
    }
   ],
   "source": [
    "st.quantiles(x, n=4, method='inclusive')"
   ]
  },
  {
   "cell_type": "markdown",
   "id": "472a8e76",
   "metadata": {},
   "source": [
    "You can also use np.percentile() to determine any sample percentile in your dataset. For example, this is how you can find the 5th and 95th percentiles:"
   ]
  },
  {
   "cell_type": "code",
   "execution_count": 26,
   "id": "977fc42c",
   "metadata": {},
   "outputs": [
    {
     "data": {
      "text/plain": [
       "-3.44"
      ]
     },
     "execution_count": 26,
     "metadata": {},
     "output_type": "execute_result"
    }
   ],
   "source": [
    "y = np.array(x)\n",
    "np.percentile(y, 5)"
   ]
  },
  {
   "cell_type": "code",
   "execution_count": 27,
   "id": "f1066440",
   "metadata": {},
   "outputs": [
    {
     "data": {
      "text/plain": [
       "34.919999999999995"
      ]
     },
     "execution_count": 27,
     "metadata": {},
     "output_type": "execute_result"
    }
   ],
   "source": [
    "np.percentile(y, 95)\n",
    "34.919999999999995"
   ]
  },
  {
   "cell_type": "code",
   "execution_count": 28,
   "id": "8e3f7458",
   "metadata": {},
   "outputs": [
    {
     "name": "stdout",
     "output_type": "stream",
     "text": [
      "Range= 46.0\n"
     ]
    }
   ],
   "source": [
    "print(\"Range=\",np.ptp(x))"
   ]
  },
  {
   "cell_type": "code",
   "execution_count": 29,
   "id": "a8ec49ef",
   "metadata": {},
   "outputs": [
    {
     "name": "stdout",
     "output_type": "stream",
     "text": [
      "20.9\n"
     ]
    }
   ],
   "source": [
    "quar = np.quantile(y, [0.25, 0.75])\n",
    "iqr=(quar[1]-quar[0])\n",
    "print(iqr)"
   ]
  },
  {
   "cell_type": "markdown",
   "id": "c4b4acab",
   "metadata": {},
   "source": [
    "# 6) Covariance"
   ]
  },
  {
   "cell_type": "code",
   "execution_count": 30,
   "id": "0d8d1178",
   "metadata": {},
   "outputs": [],
   "source": [
    "x=np.array([3,4,6,8])\n",
    "y=np.array([5,14,25,56])"
   ]
  },
  {
   "cell_type": "code",
   "execution_count": 31,
   "id": "72d29c6c",
   "metadata": {},
   "outputs": [],
   "source": [
    "covm=np.cov(x,y)"
   ]
  },
  {
   "cell_type": "code",
   "execution_count": 32,
   "id": "dbfae012",
   "metadata": {},
   "outputs": [
    {
     "data": {
      "text/plain": [
       "array([[  4.91666667,  48.        ],\n",
       "       [ 48.        , 494.        ]])"
      ]
     },
     "execution_count": 32,
     "metadata": {},
     "output_type": "execute_result"
    }
   ],
   "source": [
    "covm"
   ]
  },
  {
   "cell_type": "code",
   "execution_count": 33,
   "id": "7a22c872",
   "metadata": {},
   "outputs": [
    {
     "data": {
      "text/plain": [
       "494.0"
      ]
     },
     "execution_count": 33,
     "metadata": {},
     "output_type": "execute_result"
    }
   ],
   "source": [
    "y.var(ddof=1)"
   ]
  },
  {
   "cell_type": "code",
   "execution_count": 34,
   "id": "b3b69e06",
   "metadata": {},
   "outputs": [
    {
     "data": {
      "text/plain": [
       "4.916666666666667"
      ]
     },
     "execution_count": 34,
     "metadata": {},
     "output_type": "execute_result"
    }
   ],
   "source": [
    "x.var(ddof=1)"
   ]
  },
  {
   "cell_type": "markdown",
   "id": "a5cd1961",
   "metadata": {},
   "source": [
    "# 7) Coorelation Coefficient"
   ]
  },
  {
   "cell_type": "markdown",
   "id": "574326b8",
   "metadata": {},
   "source": [
    "corr(x,y)=cov(x,y)/(std(x)std(y))"
   ]
  },
  {
   "cell_type": "code",
   "execution_count": 35,
   "id": "d86f0f05",
   "metadata": {},
   "outputs": [
    {
     "data": {
      "text/plain": [
       "2.217355782608345"
      ]
     },
     "execution_count": 35,
     "metadata": {},
     "output_type": "execute_result"
    }
   ],
   "source": [
    "sigx=np.std(x,ddof=1)\n",
    "sigx"
   ]
  },
  {
   "cell_type": "code",
   "execution_count": 36,
   "id": "cfae5cb7",
   "metadata": {},
   "outputs": [
    {
     "data": {
      "text/plain": [
       "22.22611077089287"
      ]
     },
     "execution_count": 36,
     "metadata": {},
     "output_type": "execute_result"
    }
   ],
   "source": [
    "sigy=np.std(y,ddof=1)\n",
    "sigy"
   ]
  },
  {
   "cell_type": "code",
   "execution_count": 37,
   "id": "695f5ed5",
   "metadata": {},
   "outputs": [],
   "source": [
    "covxy=covm[1,0]"
   ]
  },
  {
   "cell_type": "code",
   "execution_count": 38,
   "id": "0d6f1002",
   "metadata": {},
   "outputs": [
    {
     "data": {
      "text/plain": [
       "0.9739628237087135"
      ]
     },
     "execution_count": 38,
     "metadata": {},
     "output_type": "execute_result"
    }
   ],
   "source": [
    "r=covxy/(sigx*sigy)\n",
    "r"
   ]
  },
  {
   "cell_type": "markdown",
   "id": "d14f7c9d",
   "metadata": {},
   "source": [
    "# Pearson coorelarion coeficient"
   ]
  },
  {
   "cell_type": "code",
   "execution_count": 39,
   "id": "799ec326",
   "metadata": {},
   "outputs": [
    {
     "data": {
      "text/plain": [
       "(0.9739628237087137, 0.026037176291286324)"
      ]
     },
     "execution_count": 39,
     "metadata": {},
     "output_type": "execute_result"
    }
   ],
   "source": [
    "r, p = scipy.stats.pearsonr(x, y)\n",
    "r,p"
   ]
  },
  {
   "cell_type": "markdown",
   "id": "8d5d8bbd",
   "metadata": {},
   "source": [
    "# 8) Working With 2D Data"
   ]
  },
  {
   "cell_type": "markdown",
   "id": "6c4fd881",
   "metadata": {},
   "source": [
    "# axis=None \n",
    "says to calculate the statistics across all data in the array. This behavior is often the default in NumPy.\n",
    "# axis=0 \n",
    "says to calculate the statistics across all rows, that is, for each column of the array. T\n",
    "# axis=1 \n",
    "says to calculate the statistics across all columns"
   ]
  },
  {
   "cell_type": "code",
   "execution_count": 40,
   "id": "1da31a26",
   "metadata": {},
   "outputs": [],
   "source": [
    " mat = np.array([[1, 1, 1],[2, 3, 1],[4, 9, 2],[8, 27, 4],[16, 1, 1]])"
   ]
  },
  {
   "cell_type": "code",
   "execution_count": 41,
   "id": "dbaffc34",
   "metadata": {},
   "outputs": [
    {
     "data": {
      "text/plain": [
       "array([[ 1,  1,  1],\n",
       "       [ 2,  3,  1],\n",
       "       [ 4,  9,  2],\n",
       "       [ 8, 27,  4],\n",
       "       [16,  1,  1]])"
      ]
     },
     "execution_count": 41,
     "metadata": {},
     "output_type": "execute_result"
    }
   ],
   "source": [
    "mat"
   ]
  },
  {
   "cell_type": "code",
   "execution_count": 42,
   "id": "5bb8aaa0",
   "metadata": {},
   "outputs": [
    {
     "data": {
      "text/plain": [
       "5.4"
      ]
     },
     "execution_count": 42,
     "metadata": {},
     "output_type": "execute_result"
    }
   ],
   "source": [
    "np.mean(mat)"
   ]
  },
  {
   "cell_type": "code",
   "execution_count": 43,
   "id": "3f73b567",
   "metadata": {},
   "outputs": [
    {
     "data": {
      "text/plain": [
       "array([6.2, 8.2, 1.8])"
      ]
     },
     "execution_count": 43,
     "metadata": {},
     "output_type": "execute_result"
    }
   ],
   "source": [
    "#For each column calculate\n",
    "np.mean(mat,axis=0)"
   ]
  },
  {
   "cell_type": "code",
   "execution_count": 44,
   "id": "808f1008",
   "metadata": {},
   "outputs": [
    {
     "data": {
      "text/plain": [
       "array([ 1.,  2.,  5., 13.,  6.])"
      ]
     },
     "execution_count": 44,
     "metadata": {},
     "output_type": "execute_result"
    }
   ],
   "source": [
    "np.mean(mat,axis=1)"
   ]
  },
  {
   "cell_type": "code",
   "execution_count": 45,
   "id": "bf261fed",
   "metadata": {},
   "outputs": [
    {
     "data": {
      "text/plain": [
       "array([ 37.2, 121.2,   1.7])"
      ]
     },
     "execution_count": 45,
     "metadata": {},
     "output_type": "execute_result"
    }
   ],
   "source": [
    "np.var(mat,axis=0,ddof=1)"
   ]
  },
  {
   "cell_type": "code",
   "execution_count": 46,
   "id": "ada01a5c",
   "metadata": {},
   "outputs": [
    {
     "data": {
      "text/plain": [
       "array([4.        , 3.73719282, 1.51571657])"
      ]
     },
     "execution_count": 46,
     "metadata": {},
     "output_type": "execute_result"
    }
   ],
   "source": [
    "stats.gmean(mat,axis=0)"
   ]
  },
  {
   "cell_type": "markdown",
   "id": "7583e32c",
   "metadata": {},
   "source": [
    "# 9) Dataframes"
   ]
  },
  {
   "cell_type": "code",
   "execution_count": 47,
   "id": "bb07943d",
   "metadata": {},
   "outputs": [],
   "source": [
    "row_names = ['first', 'second', 'third', 'fourth', 'fifth']\n",
    ">>> col_names = ['A', 'B', 'C']\n",
    ">>> df = pd.DataFrame(mat, index=row_names, columns=col_names)"
   ]
  },
  {
   "cell_type": "code",
   "execution_count": 48,
   "id": "6f99aed8",
   "metadata": {},
   "outputs": [
    {
     "data": {
      "text/html": [
       "<div>\n",
       "<style scoped>\n",
       "    .dataframe tbody tr th:only-of-type {\n",
       "        vertical-align: middle;\n",
       "    }\n",
       "\n",
       "    .dataframe tbody tr th {\n",
       "        vertical-align: top;\n",
       "    }\n",
       "\n",
       "    .dataframe thead th {\n",
       "        text-align: right;\n",
       "    }\n",
       "</style>\n",
       "<table border=\"1\" class=\"dataframe\">\n",
       "  <thead>\n",
       "    <tr style=\"text-align: right;\">\n",
       "      <th></th>\n",
       "      <th>A</th>\n",
       "      <th>B</th>\n",
       "      <th>C</th>\n",
       "    </tr>\n",
       "  </thead>\n",
       "  <tbody>\n",
       "    <tr>\n",
       "      <th>first</th>\n",
       "      <td>1</td>\n",
       "      <td>1</td>\n",
       "      <td>1</td>\n",
       "    </tr>\n",
       "    <tr>\n",
       "      <th>second</th>\n",
       "      <td>2</td>\n",
       "      <td>3</td>\n",
       "      <td>1</td>\n",
       "    </tr>\n",
       "    <tr>\n",
       "      <th>third</th>\n",
       "      <td>4</td>\n",
       "      <td>9</td>\n",
       "      <td>2</td>\n",
       "    </tr>\n",
       "    <tr>\n",
       "      <th>fourth</th>\n",
       "      <td>8</td>\n",
       "      <td>27</td>\n",
       "      <td>4</td>\n",
       "    </tr>\n",
       "    <tr>\n",
       "      <th>fifth</th>\n",
       "      <td>16</td>\n",
       "      <td>1</td>\n",
       "      <td>1</td>\n",
       "    </tr>\n",
       "  </tbody>\n",
       "</table>\n",
       "</div>"
      ],
      "text/plain": [
       "         A   B  C\n",
       "first    1   1  1\n",
       "second   2   3  1\n",
       "third    4   9  2\n",
       "fourth   8  27  4\n",
       "fifth   16   1  1"
      ]
     },
     "execution_count": 48,
     "metadata": {},
     "output_type": "execute_result"
    }
   ],
   "source": [
    "df"
   ]
  },
  {
   "cell_type": "code",
   "execution_count": 49,
   "id": "e4aed043",
   "metadata": {},
   "outputs": [
    {
     "data": {
      "text/plain": [
       "A    6.2\n",
       "B    8.2\n",
       "C    1.8\n",
       "dtype: float64"
      ]
     },
     "execution_count": 49,
     "metadata": {},
     "output_type": "execute_result"
    }
   ],
   "source": [
    "df.mean()"
   ]
  },
  {
   "cell_type": "code",
   "execution_count": 50,
   "id": "90054073",
   "metadata": {},
   "outputs": [
    {
     "data": {
      "text/plain": [
       "6.2"
      ]
     },
     "execution_count": 50,
     "metadata": {},
     "output_type": "execute_result"
    }
   ],
   "source": [
    "df.mean()['A']"
   ]
  },
  {
   "cell_type": "code",
   "execution_count": 51,
   "id": "c9e61e74",
   "metadata": {},
   "outputs": [
    {
     "data": {
      "text/plain": [
       "6.2"
      ]
     },
     "execution_count": 51,
     "metadata": {},
     "output_type": "execute_result"
    }
   ],
   "source": [
    "df['A'].mean()"
   ]
  },
  {
   "cell_type": "code",
   "execution_count": 52,
   "id": "d7133a0e",
   "metadata": {},
   "outputs": [
    {
     "data": {
      "text/plain": [
       "first      1.0\n",
       "second     2.0\n",
       "third      5.0\n",
       "fourth    13.0\n",
       "fifth      6.0\n",
       "dtype: float64"
      ]
     },
     "execution_count": 52,
     "metadata": {},
     "output_type": "execute_result"
    }
   ],
   "source": [
    "df.mean(axis=1)"
   ]
  },
  {
   "cell_type": "code",
   "execution_count": 53,
   "id": "19ace917",
   "metadata": {},
   "outputs": [
    {
     "data": {
      "text/plain": [
       "array([[ 1,  1,  1],\n",
       "       [ 2,  3,  1],\n",
       "       [ 4,  9,  2],\n",
       "       [ 8, 27,  4],\n",
       "       [16,  1,  1]])"
      ]
     },
     "execution_count": 53,
     "metadata": {},
     "output_type": "execute_result"
    }
   ],
   "source": [
    "df.values"
   ]
  },
  {
   "cell_type": "markdown",
   "id": "e737244e",
   "metadata": {},
   "source": [
    "# 10) Histogram"
   ]
  },
  {
   "cell_type": "code",
   "execution_count": 54,
   "id": "2391ade4",
   "metadata": {},
   "outputs": [],
   "source": [
    "sdata=sorted(data)"
   ]
  },
  {
   "cell_type": "code",
   "execution_count": 55,
   "id": "a1e64366",
   "metadata": {},
   "outputs": [
    {
     "name": "stderr",
     "output_type": "stream",
     "text": [
      "C:\\Users\\user\\AppData\\Local\\Temp\\ipykernel_9516\\3974581403.py:1: DeprecationWarning: scipy.histogram is deprecated and will be removed in SciPy 2.0.0, use numpy.histogram instead\n",
      "  hist,binsize=scipy.histogram(sdata,bins=range(43))\n"
     ]
    }
   ],
   "source": [
    "hist,binsize=scipy.histogram(sdata,bins=range(43))"
   ]
  },
  {
   "cell_type": "code",
   "execution_count": 56,
   "id": "419ef44e",
   "metadata": {},
   "outputs": [
    {
     "data": {
      "text/plain": [
       "array([ 0,  1,  2,  3,  4,  5,  6,  7,  8,  9, 10, 11, 12, 13, 14, 15, 16,\n",
       "       17, 18, 19, 20, 21, 22, 23, 24, 25, 26, 27, 28, 29, 30, 31, 32, 33,\n",
       "       34, 35, 36, 37, 38, 39, 40, 41, 42])"
      ]
     },
     "execution_count": 56,
     "metadata": {},
     "output_type": "execute_result"
    }
   ],
   "source": [
    "binsize"
   ]
  },
  {
   "cell_type": "code",
   "execution_count": 57,
   "id": "1ccd49fa",
   "metadata": {},
   "outputs": [
    {
     "data": {
      "text/plain": [
       "array([0, 0, 9, 0, 9, 0, 0, 9, 0, 0, 6, 0, 0, 0, 0, 0, 0, 0, 0, 0, 3, 0,\n",
       "       0, 3, 0, 0, 0, 0, 0, 0, 0, 0, 0, 0, 0, 0, 0, 0, 0, 0, 0, 3],\n",
       "      dtype=int64)"
      ]
     },
     "execution_count": 57,
     "metadata": {},
     "output_type": "execute_result"
    }
   ],
   "source": [
    "hist"
   ]
  },
  {
   "cell_type": "code",
   "execution_count": 58,
   "id": "df16acf1",
   "metadata": {},
   "outputs": [
    {
     "data": {
      "text/plain": [
       "(43,)"
      ]
     },
     "execution_count": 58,
     "metadata": {},
     "output_type": "execute_result"
    }
   ],
   "source": [
    "binsize.shape"
   ]
  },
  {
   "cell_type": "code",
   "execution_count": 59,
   "id": "3cf1664b",
   "metadata": {},
   "outputs": [
    {
     "data": {
      "image/png": "[encoded data removed]",
      "text/plain": [
       "<Figure size 432x288 with 1 Axes>"
      ]
     },
     "metadata": {
      "needs_background": "light"
     },
     "output_type": "display_data"
    }
   ],
   "source": [
    "plt.bar(binsize[:-1],hist,width=1)\n",
    "plt.xlabel('Element')\n",
    "plt.ylabel('Frequncy')\n",
    "plt.show()"
   ]
  },
  {
   "cell_type": "markdown",
   "id": "592cc09d",
   "metadata": {},
   "source": [
    "# 11)Standard error of mean"
   ]
  },
  {
   "cell_type": "code",
   "execution_count": 60,
   "id": "744ac59d",
   "metadata": {},
   "outputs": [
    {
     "data": {
      "text/plain": [
       "1.6592644172101176"
      ]
     },
     "execution_count": 60,
     "metadata": {},
     "output_type": "execute_result"
    }
   ],
   "source": [
    "stats.sem(data,ddof=0)"
   ]
  },
  {
   "cell_type": "markdown",
   "id": "4e4752e8",
   "metadata": {},
   "source": [
    "# 12)Z score"
   ]
  },
  {
   "cell_type": "code",
   "execution_count": 61,
   "id": "eb1aa574",
   "metadata": {},
   "outputs": [
    {
     "data": {
      "text/plain": [
       "array([-0.77053028, -0.58454021, -0.30555511, -0.02657001,  0.90338032,\n",
       "        1.18236543, -0.58454021, -0.77053028, -0.77053028, -0.58454021,\n",
       "       -0.30555511, -0.02657001, -0.30555511,  2.94927106, -0.77053028,\n",
       "       -0.58454021, -0.30555511, -0.02657001,  0.90338032,  1.18236543,\n",
       "       -0.58454021, -0.77053028, -0.77053028, -0.58454021, -0.30555511,\n",
       "       -0.02657001, -0.30555511,  2.94927106, -0.77053028, -0.58454021,\n",
       "       -0.30555511, -0.02657001,  0.90338032,  1.18236543, -0.58454021,\n",
       "       -0.77053028, -0.77053028, -0.58454021, -0.30555511, -0.02657001,\n",
       "       -0.30555511,  2.94927106])"
      ]
     },
     "execution_count": 61,
     "metadata": {},
     "output_type": "execute_result"
    }
   ],
   "source": [
    "stats.zscore(data)"
   ]
  },
  {
   "cell_type": "markdown",
   "id": "22a9d523",
   "metadata": {},
   "source": [
    "# Descriptive statistics"
   ]
  },
  {
   "cell_type": "code",
   "execution_count": 62,
   "id": "8c1958e7",
   "metadata": {},
   "outputs": [
    {
     "data": {
      "text/plain": [
       "DescribeResult(nobs=42, minmax=(2, 42), mean=10.285714285714286, variance=118.45296167247389, skewness=1.8561632353791857, kurtosis=2.6937831435246604)"
      ]
     },
     "execution_count": 62,
     "metadata": {},
     "output_type": "execute_result"
    }
   ],
   "source": [
    "stats.describe(data)"
   ]
  },
  {
   "cell_type": "markdown",
   "id": "b49829b4",
   "metadata": {},
   "source": [
    "# 13) Visualizatoin"
   ]
  },
  {
   "cell_type": "markdown",
   "id": "d8c9ef41",
   "metadata": {},
   "source": [
    "how to present your data visually using the following graphs:\n",
    "\n",
    "a) Box plots\n",
    "b)Histograms\n",
    "c) Pie charts\n",
    "d) Bar charts\n",
    "e)X-Y plots\n",
    "f)Heatmaps"
   ]
  },
  {
   "cell_type": "markdown",
   "id": "ba0ecbee",
   "metadata": {},
   "source": [
    "# a) Boxplot"
   ]
  },
  {
   "cell_type": "markdown",
   "id": "ff332d87",
   "metadata": {},
   "source": [
    "It can show the range, interquartile range, median, mode, outliers, and all quartiles"
   ]
  },
  {
   "cell_type": "code",
   "execution_count": 63,
   "id": "00894af8",
   "metadata": {},
   "outputs": [],
   "source": [
    "np.random.seed(seed=0)\n",
    "x = np.random.randn(1000)\n",
    "y = np.random.randn(100)\n",
    "z = np.random.randn(10)"
   ]
  },
  {
   "cell_type": "code",
   "execution_count": 64,
   "id": "0e2c6c07",
   "metadata": {},
   "outputs": [
    {
     "data": {
      "image/png": "[encoded data removed]",
      "text/plain": [
       "<Figure size 432x288 with 1 Axes>"
      ]
     },
     "metadata": {
      "needs_background": "light"
     },
     "output_type": "display_data"
    }
   ],
   "source": [
    "fig, ax = plt.subplots()\n",
    "ax.boxplot((x, y, z), vert=False, showmeans=True, meanline=True,\n",
    "           labels=('x', 'y', 'z'), patch_artist=True,\n",
    "           medianprops={'linewidth': 2, 'color': 'purple'},\n",
    "           meanprops={'linewidth': 2, 'color': 'red'})\n",
    "plt.show()"
   ]
  },
  {
   "cell_type": "code",
   "execution_count": 65,
   "id": "0b8a01fc",
   "metadata": {},
   "outputs": [
    {
     "data": {
      "image/png": "[encoded data removed]",
      "text/plain": [
       "<Figure size 432x288 with 1 Axes>"
      ]
     },
     "metadata": {
      "needs_background": "light"
     },
     "output_type": "display_data"
    }
   ],
   "source": [
    "plt.boxplot(x, showmeans=True, meanline=True, medianprops={'linewidth': 2, 'color': 'purple'},meanprops={'linewidth': 2, 'color': 'red'})\n",
    "plt.show()"
   ]
  },
  {
   "cell_type": "markdown",
   "id": "907c0d4a",
   "metadata": {},
   "source": [
    "# 8)t Distribution\n",
    "a (degrees of freedom) and b (location parameter). rv is then used for generating five(size=5) random values. "
   ]
  },
  {
   "attachments": {
    "image.png": {
     "image/png": "[encoded data removed]"
    }
   },
   "cell_type": "markdown",
   "id": "6f01ef7f",
   "metadata": {},
   "source": [
    "![image.png](attachment:image.png)"
   ]
  },
  {
   "cell_type": "markdown",
   "id": "995e39cd",
   "metadata": {},
   "source": [
    "where,\n",
    "t = The t-score,\n",
    "x̄ = sample mean,\n",
    "μ = population mean,\n",
    "s = standard deviation of the sample,\n",
    "n = sample size "
   ]
  },
  {
   "cell_type": "code",
   "execution_count": 66,
   "id": "ce5504ab",
   "metadata": {},
   "outputs": [],
   "source": [
    "from scipy.stats import t"
   ]
  },
  {
   "cell_type": "code",
   "execution_count": 67,
   "id": "4ea23ca8",
   "metadata": {},
   "outputs": [],
   "source": [
    "a, b = 4, 3\n",
    "rv = t(a, b)"
   ]
  },
  {
   "cell_type": "code",
   "execution_count": 68,
   "id": "7b007fd7",
   "metadata": {},
   "outputs": [
    {
     "name": "stdout",
     "output_type": "stream",
     "text": [
      "Random Values:  [2.95543708 2.79372853 4.57362644 2.92501411 3.54911862]\n"
     ]
    }
   ],
   "source": [
    "random_values = rv.rvs(size=5)  \n",
    " \n",
    "print(\"Random Values: \", random_values)"
   ]
  },
  {
   "cell_type": "markdown",
   "id": "99e63f3c",
   "metadata": {},
   "source": [
    "# 9) Normal Distribution"
   ]
  },
  {
   "cell_type": "markdown",
   "id": "4a509374",
   "metadata": {},
   "source": [
    "The normal distribution is a continuous probability distribution function also known as Gaussian distribution which is symmetric about its mean and has a bell-shaped curve. It is one of the most used probability distributions. Two parameters characterize it\n",
    "\n",
    "Mean(μ)- It represents the center of the distribution \n",
    "Standard Deviation(σ) – It represents the spread in the curve "
   ]
  },
  {
   "attachments": {
    "image.png": {
     "image/png": "[encoded data removed]"
    }
   },
   "cell_type": "markdown",
   "id": "5f7b9d73",
   "metadata": {},
   "source": [
    "![image.png](attachment:image.png)"
   ]
  },
  {
   "cell_type": "markdown",
   "id": "724e273e",
   "metadata": {},
   "source": [
    "# Properties Of Normal Distribution\n",
    "# a) Symmetric distribution – \n",
    "The normal distribution is symmetric about its mean point. It means the distribution is perfectly balanced toward its mean point with half of the data on either side. \n",
    "# b)Bell-Shaped curve – \n",
    "The graph of a normal distribution takes the form bell-shaped curve with most of the points accumulated at its mean position. The shape of this curve is determined by the mean and standard deviation of the distribution \n",
    "# c) Empirical Rule – \n",
    "The normal distribution curve follows the empirical rule where 68% of the data lies within 1 standard deviation from the mean of the graph, 95% of the data lies within 2 standard deviations from the mean and 99.7% of the data lies within 3 standard deviations from the mean.\n",
    "# d)Additive Rule – \n",
    "The sum of two or more normal distributions will always be a normal distribution. \n",
    "# e)Central Limit Theoram – \n",
    "It states if we take the mean of large no data points collected from independent and identical distributed random variables then these mean will follow a normal distribution regardless of their original distribution."
   ]
  },
  {
   "attachments": {
    "image.png": {
     "image/png": "[encoded data removed]"
    }
   },
   "cell_type": "markdown",
   "id": "971033cc",
   "metadata": {},
   "source": [
    "![image.png](attachment:image.png)"
   ]
  },
  {
   "cell_type": "markdown",
   "id": "73a97081",
   "metadata": {},
   "source": [
    "# 9.1)Method-1"
   ]
  },
  {
   "cell_type": "code",
   "execution_count": 69,
   "id": "ef26a3ee",
   "metadata": {},
   "outputs": [
    {
     "name": "stdout",
     "output_type": "stream",
     "text": [
      "1.9054722647301798\n"
     ]
    }
   ],
   "source": [
    "import numpy as np\n",
    "\n",
    "def normal_dist(x, mean, sd):\n",
    "    prob_density = (np.pi*sd) * np.exp(-0.5*((x-mean)/sd)**2)\n",
    "    return prob_density\n",
    "\n",
    "mean = 0\n",
    "sd = 1\n",
    "x = 1\n",
    "result = normal_dist(x, mean, sd)\n",
    "print(result)"
   ]
  },
  {
   "cell_type": "markdown",
   "id": "7591b61a",
   "metadata": {},
   "source": [
    "# 9.2) Method-2"
   ]
  },
  {
   "cell_type": "code",
   "execution_count": 70,
   "id": "5f9b35b1",
   "metadata": {},
   "outputs": [
    {
     "data": {
      "image/png": "[encoded data removed]",
      "text/plain": [
       "<Figure size 432x288 with 1 Axes>"
      ]
     },
     "metadata": {
      "needs_background": "light"
     },
     "output_type": "display_data"
    }
   ],
   "source": [
    "import numpy as np\n",
    "import matplotlib.pyplot as plt\n",
    " \n",
    "# Mean of the distribution \n",
    "Mean = 100\n",
    "\n",
    "# satndard deviation of the distribution\n",
    "Standard_deviation  = 5\n",
    " \n",
    "# size\n",
    "size = 100000\n",
    " \n",
    "# creating a normal distribution data\n",
    "values = np.random.normal(Mean, Standard_deviation, size)\n",
    " \n",
    "# plotting histograph\n",
    "plt.hist(values, 100)\n",
    "# plotting mean line\n",
    "plt.axvline(values.mean(), color='k', linestyle='dashed', linewidth=2)\n",
    "plt.show()"
   ]
  },
  {
   "cell_type": "markdown",
   "id": "89557cf4",
   "metadata": {},
   "source": [
    "# 9.3) Numerical"
   ]
  },
  {
   "cell_type": "markdown",
   "id": "043bcc77",
   "metadata": {},
   "source": [
    "Suppose there are 100 students in the class and in one of the mathematics tests the average marks scored by the students in the subject is 78 and the standard deviation is 25. The marks of the student follow Normal probability distribution. We can use this information to answer some questions about the student’s marks"
   ]
  },
  {
   "cell_type": "code",
   "execution_count": 71,
   "id": "fbbb854d",
   "metadata": {},
   "outputs": [
    {
     "name": "stdout",
     "output_type": "stream",
     "text": [
      "Percentage of students who got less than 60 marks: 23.58 %\n",
      "Percentage of students who got more than 60 marks:  76.42  %\n"
     ]
    }
   ],
   "source": [
    "# import required libraries\n",
    "from scipy.stats import norm\n",
    "import numpy as np\n",
    "\n",
    "# Given information\n",
    "mean = 78\n",
    "std_dev = 25\n",
    "total_students = 100\n",
    "score = 60\n",
    "\n",
    "# Calculate z-score for 60\n",
    "z_score = (score - mean) / std_dev\n",
    "\n",
    "# Calculate the probability of getting a score less than 60\n",
    "prob = norm.cdf(z_score)\n",
    "\n",
    "# Calculate the percentage of students who got less than 60 marks\n",
    "percent = prob * 100\n",
    "\n",
    "# Print the result\n",
    "print(\"Percentage of students who got less than 60 marks:\", round(percent, 2), \"%\")\n",
    "percent = (1-prob) * 100\n",
    "\n",
    "# Print the result\n",
    "print(\"Percentage of students who got more than 60 marks: \", round(percent, 2), \" %\")"
   ]
  },
  {
   "cell_type": "markdown",
   "id": "77185e77",
   "metadata": {},
   "source": [
    "# 9.4)Numerical 2\n",
    "Percentage of Students who have scored More than 75 and less than 85"
   ]
  },
  {
   "cell_type": "code",
   "execution_count": 72,
   "id": "0d749993",
   "metadata": {},
   "outputs": [
    {
     "name": "stdout",
     "output_type": "stream",
     "text": [
      "Percentage of students who got marks between 75 and 85 is 15.8 %\n"
     ]
    }
   ],
   "source": [
    "# Given information\n",
    "mean = 78\n",
    "std_dev = 25\n",
    "total_students = 100\n",
    "min_score = 75\n",
    "max_score = 85\n",
    "\n",
    "# Calculate z-score for 75\n",
    "z_min_score = (min_score - mean) / std_dev\n",
    "# Calculate z-score for 85\n",
    "z_max_score = (max_score - mean) / std_dev\n",
    "\n",
    "\n",
    "# Calculate the probability of getting less than 70\n",
    "min_prob = norm.cdf(z_min_score)\n",
    "\n",
    "# Calculate the probability of getting  less than 85\n",
    "max_prob = norm.cdf(z_max_score)\n",
    "\n",
    "percent = (max_prob-min_prob) * 100\n",
    "\n",
    "# Print the result\n",
    "print(\"Percentage of students who got marks between 75 and 85 is\", round(percent, 2), \"%\")"
   ]
  }
 ],
 "metadata": {
  "kernelspec": {
   "display_name": "Python 3",
   "language": "python",
   "name": "python3"
  },
  "language_info": {
   "codemirror_mode": {
    "name": "ipython",
    "version": 3
   },
   "file_extension": ".py",
   "mimetype": "text/x-python",
   "name": "python",
   "nbconvert_exporter": "python",
   "pygments_lexer": "ipython3",
   "version": "3.9.0"
  }
 },
 "nbformat": 4,
 "nbformat_minor": 5
}
