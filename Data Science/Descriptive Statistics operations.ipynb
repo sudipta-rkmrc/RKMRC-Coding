{
 "cells": [
  {
   "cell_type": "markdown",
   "id": "553e24df-8703-48fc-a234-2984eb4b2552",
   "metadata": {},
   "source": [
    "# Practical On Descriptive Statistics Operations "
   ]
  },
  {
   "cell_type": "code",
   "execution_count": 1,
   "id": "b4cdb808-d3a8-46ef-92ff-4ed9911a2808",
   "metadata": {},
   "outputs": [],
   "source": [
    "import pandas as pd\n",
    "import numpy as np\n",
    "from scipy.stats import skew, kurtosis\n",
    "\n",
    "\n",
    "data = [15, 22, 28, 35, 41, 44, 56, 63, 70, 72, 75, 80, 85, 92, 100]\n",
    "df = pd.DataFrame(data, columns=[\"values\"])"
   ]
  },
  {
   "cell_type": "markdown",
   "id": "4a67508a-b12f-4a8d-b41f-90b18d478a06",
   "metadata": {},
   "source": [
    "### Measures of Central Tendency"
   ]
  },
  {
   "cell_type": "code",
   "execution_count": 2,
   "id": "b59c3d5f-b49d-46bd-b2df-d5444486af91",
   "metadata": {},
   "outputs": [
    {
     "name": "stdout",
     "output_type": "stream",
     "text": [
      "Mean: 58.53333333333333\n",
      "Median: 63.0\n",
      "Mode: 15\n"
     ]
    }
   ],
   "source": [
    "# Mean\n",
    "mean_value = df[\"values\"].mean()\n",
    "print(f\"Mean: {mean_value}\")\n",
    "\n",
    "# Median\n",
    "median_value = df[\"values\"].median()\n",
    "print(f\"Median: {median_value}\")\n",
    "\n",
    "# Mode\n",
    "mode_value = df[\"values\"].mode()[0]\n",
    "print(f\"Mode: {mode_value}\")"
   ]
  },
  {
   "cell_type": "markdown",
   "id": "13dd8878-29ae-4231-9833-2fb5e4db7a16",
   "metadata": {},
   "source": [
    "###  Measures of Variability (Dispersion)"
   ]
  },
  {
   "cell_type": "code",
   "execution_count": 3,
   "id": "b1c1a95b-28b9-408b-8168-a66630fc179c",
   "metadata": {},
   "outputs": [
    {
     "name": "stdout",
     "output_type": "stream",
     "text": [
      "Standard Deviation: 26.519175452239587\n",
      "Variance: 703.2666666666667\n",
      "Range: 85\n",
      "Interquartile Range (IQR): 39.5\n"
     ]
    }
   ],
   "source": [
    "# Standard Deviation\n",
    "std_dev = df[\"values\"].std()\n",
    "print(f\"Standard Deviation: {std_dev}\")\n",
    "\n",
    "# Variance\n",
    "variance_value = df[\"values\"].var()\n",
    "print(f\"Variance: {variance_value}\")\n",
    "\n",
    "# Range (Max - Min)\n",
    "range_value = df[\"values\"].max() - df[\"values\"].min()\n",
    "print(f\"Range: {range_value}\")\n",
    "\n",
    "# Interquartile Range (IQR)\n",
    "iqr_value = df[\"values\"].quantile(0.75) - df[\"values\"].quantile(0.25)\n",
    "print(f\"Interquartile Range (IQR): {iqr_value}\")\n"
   ]
  },
  {
   "cell_type": "markdown",
   "id": "2e0155b0-e0ea-4df7-ab68-c96ae0249344",
   "metadata": {},
   "source": [
    "### Shape of Distribution"
   ]
  },
  {
   "cell_type": "code",
   "execution_count": 4,
   "id": "eaf30afc-52d4-420b-a821-1db9dad78085",
   "metadata": {},
   "outputs": [
    {
     "name": "stdout",
     "output_type": "stream",
     "text": [
      "Skewness: -0.14080409652604806\n",
      "Kurtosis: -1.1855184150013813\n"
     ]
    }
   ],
   "source": [
    "# Skewness\n",
    "skewness_value = skew(df[\"values\"])\n",
    "print(f\"Skewness: {skewness_value}\")\n",
    "\n",
    "# Kurtosis\n",
    "kurtosis_value = kurtosis(df[\"values\"])\n",
    "print(f\"Kurtosis: {kurtosis_value}\")"
   ]
  },
  {
   "cell_type": "markdown",
   "id": "e40ef1ba-84e1-49a2-b2f7-53af1b27e832",
   "metadata": {},
   "source": [
    "### Quantiles"
   ]
  },
  {
   "cell_type": "code",
   "execution_count": 5,
   "id": "4e77cf35-c770-4f09-a225-ef3a7019f90d",
   "metadata": {},
   "outputs": [
    {
     "name": "stdout",
     "output_type": "stream",
     "text": [
      "Quantiles (25%, 50%, 75%):\n",
      "0.25    38.0\n",
      "0.50    63.0\n",
      "0.75    77.5\n",
      "Name: values, dtype: float64\n"
     ]
    }
   ],
   "source": [
    "# Quantiles\n",
    "quantiles = df[\"values\"].quantile([0.25, 0.5, 0.75])\n",
    "print(f\"Quantiles (25%, 50%, 75%):\\n{quantiles}\")"
   ]
  },
  {
   "cell_type": "markdown",
   "id": "f7e46901-a7e5-49fd-b447-bc8ae156417a",
   "metadata": {},
   "source": [
    "### Count, Min, and Max"
   ]
  },
  {
   "cell_type": "code",
   "execution_count": 6,
   "id": "90116e71-ee2f-4073-9ac0-6ffd48e02959",
   "metadata": {},
   "outputs": [
    {
     "name": "stdout",
     "output_type": "stream",
     "text": [
      "Count: 15\n",
      "Min: 15\n",
      "Max: 100\n"
     ]
    }
   ],
   "source": [
    "# Count (number of non-null entries)\n",
    "count_value = df[\"values\"].count()\n",
    "print(f\"Count: {count_value}\")\n",
    "\n",
    "# Minimum value\n",
    "min_value = df[\"values\"].min()\n",
    "print(f\"Min: {min_value}\")\n",
    "\n",
    "# Maximum value\n",
    "max_value = df[\"values\"].max()\n",
    "print(f\"Max: {max_value}\")\n"
   ]
  },
  {
   "cell_type": "markdown",
   "id": "ec98a1f0-5c3b-4262-8d21-db8275246778",
   "metadata": {},
   "source": [
    "###  Summary Statistics (Built-in)"
   ]
  },
  {
   "cell_type": "code",
   "execution_count": 7,
   "id": "997ff020-2a6b-4c37-ae55-c3a4a3dfa540",
   "metadata": {},
   "outputs": [
    {
     "name": "stdout",
     "output_type": "stream",
     "text": [
      "Summary Statistics:\n",
      "count     15.000000\n",
      "mean      58.533333\n",
      "std       26.519175\n",
      "min       15.000000\n",
      "25%       38.000000\n",
      "50%       63.000000\n",
      "75%       77.500000\n",
      "max      100.000000\n",
      "Name: values, dtype: float64\n"
     ]
    }
   ],
   "source": [
    "# Summary statistics for the dataset\n",
    "summary_stats = df[\"values\"].describe()\n",
    "print(f\"Summary Statistics:\\n{summary_stats}\")"
   ]
  },
  {
   "cell_type": "markdown",
   "id": "03405b7b-11e8-4a34-aa1f-407c3aebb21e",
   "metadata": {},
   "source": [
    "###  Box Plot for Visualizing IQR"
   ]
  },
  {
   "cell_type": "code",
   "execution_count": 8,
   "id": "da5df164-c979-484a-b4a0-39a9bba49af4",
   "metadata": {},
   "outputs": [
    {
     "data": {
      "image/png": "[encoded data removed]",
      "text/plain": [
       "<Figure size 640x480 with 1 Axes>"
      ]
     },
     "metadata": {},
     "output_type": "display_data"
    }
   ],
   "source": [
    "import matplotlib.pyplot as plt\n",
    "\n",
    "# Box plot to visualize the spread, IQR, and outliers\n",
    "plt.boxplot(df[\"values\"], vert=False)\n",
    "plt.title('Box Plot')\n",
    "plt.show()\n"
   ]
  },
  {
   "cell_type": "code",
   "execution_count": null,
   "id": "8d5d1d55-80a0-481b-bc95-1c12390d9d72",
   "metadata": {},
   "outputs": [],
   "source": []
  }
 ],
 "metadata": {
  "kernelspec": {
   "display_name": "Python 3",
   "language": "python",
   "name": "python3"
  },
  "language_info": {
   "codemirror_mode": {
    "name": "ipython",
    "version": 3
   },
   "file_extension": ".py",
   "mimetype": "text/x-python",
   "name": "python",
   "nbconvert_exporter": "python",
   "pygments_lexer": "ipython3",
   "version": "3.9.0"
  }
 },
 "nbformat": 4,
 "nbformat_minor": 5
}
