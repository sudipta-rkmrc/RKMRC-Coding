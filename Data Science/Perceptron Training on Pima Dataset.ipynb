{
 "cells": [
  {
   "cell_type": "code",
   "execution_count": 1,
   "id": "ee1aeab2-ba43-4a37-8e26-715c05bc1f92",
   "metadata": {},
   "outputs": [],
   "source": [
    "import numpy as np\n",
    "import pandas as pd\n",
    "import matplotlib.pyplot as plt\n",
    "import seaborn as sn"
   ]
  },
  {
   "cell_type": "markdown",
   "id": "04190a7a-2009-4bfd-bfb1-ed4b73a4cc06",
   "metadata": {},
   "source": [
    "# Pima Dataset\n",
    "\n",
    "\n"
   ]
  },
  {
   "cell_type": "code",
   "execution_count": 2,
   "id": "a0b16f06-f3d8-487f-b902-38cafe321877",
   "metadata": {},
   "outputs": [
    {
     "data": {
      "text/html": [
       "<div>\n",
       "<style scoped>\n",
       "    .dataframe tbody tr th:only-of-type {\n",
       "        vertical-align: middle;\n",
       "    }\n",
       "\n",
       "    .dataframe tbody tr th {\n",
       "        vertical-align: top;\n",
       "    }\n",
       "\n",
       "    .dataframe thead th {\n",
       "        text-align: right;\n",
       "    }\n",
       "</style>\n",
       "<table border=\"1\" class=\"dataframe\">\n",
       "  <thead>\n",
       "    <tr style=\"text-align: right;\">\n",
       "      <th></th>\n",
       "      <th>Pregnancies</th>\n",
       "      <th>Glucose</th>\n",
       "      <th>BloodPressure</th>\n",
       "      <th>SkinThickness</th>\n",
       "      <th>Insulin</th>\n",
       "      <th>BMI</th>\n",
       "      <th>DiabetesPedigreeFunction</th>\n",
       "      <th>Age</th>\n",
       "      <th>Outcome</th>\n",
       "    </tr>\n",
       "  </thead>\n",
       "  <tbody>\n",
       "    <tr>\n",
       "      <th>0</th>\n",
       "      <td>6</td>\n",
       "      <td>148</td>\n",
       "      <td>72</td>\n",
       "      <td>35</td>\n",
       "      <td>0</td>\n",
       "      <td>33.6</td>\n",
       "      <td>0.627</td>\n",
       "      <td>50</td>\n",
       "      <td>1</td>\n",
       "    </tr>\n",
       "    <tr>\n",
       "      <th>1</th>\n",
       "      <td>1</td>\n",
       "      <td>85</td>\n",
       "      <td>66</td>\n",
       "      <td>29</td>\n",
       "      <td>0</td>\n",
       "      <td>26.6</td>\n",
       "      <td>0.351</td>\n",
       "      <td>31</td>\n",
       "      <td>0</td>\n",
       "    </tr>\n",
       "    <tr>\n",
       "      <th>2</th>\n",
       "      <td>8</td>\n",
       "      <td>183</td>\n",
       "      <td>64</td>\n",
       "      <td>0</td>\n",
       "      <td>0</td>\n",
       "      <td>23.3</td>\n",
       "      <td>0.672</td>\n",
       "      <td>32</td>\n",
       "      <td>1</td>\n",
       "    </tr>\n",
       "    <tr>\n",
       "      <th>3</th>\n",
       "      <td>1</td>\n",
       "      <td>89</td>\n",
       "      <td>66</td>\n",
       "      <td>23</td>\n",
       "      <td>94</td>\n",
       "      <td>28.1</td>\n",
       "      <td>0.167</td>\n",
       "      <td>21</td>\n",
       "      <td>0</td>\n",
       "    </tr>\n",
       "    <tr>\n",
       "      <th>4</th>\n",
       "      <td>0</td>\n",
       "      <td>137</td>\n",
       "      <td>40</td>\n",
       "      <td>35</td>\n",
       "      <td>168</td>\n",
       "      <td>43.1</td>\n",
       "      <td>2.288</td>\n",
       "      <td>33</td>\n",
       "      <td>1</td>\n",
       "    </tr>\n",
       "  </tbody>\n",
       "</table>\n",
       "</div>"
      ],
      "text/plain": [
       "   Pregnancies  Glucose  BloodPressure  SkinThickness  Insulin   BMI  \\\n",
       "0            6      148             72             35        0  33.6   \n",
       "1            1       85             66             29        0  26.6   \n",
       "2            8      183             64              0        0  23.3   \n",
       "3            1       89             66             23       94  28.1   \n",
       "4            0      137             40             35      168  43.1   \n",
       "\n",
       "   DiabetesPedigreeFunction  Age  Outcome  \n",
       "0                     0.627   50        1  \n",
       "1                     0.351   31        0  \n",
       "2                     0.672   32        1  \n",
       "3                     0.167   21        0  \n",
       "4                     2.288   33        1  "
      ]
     },
     "execution_count": 2,
     "metadata": {},
     "output_type": "execute_result"
    }
   ],
   "source": [
    "df = pd.read_csv('diabetes.csv')\n",
    "df.head()"
   ]
  },
  {
   "cell_type": "code",
   "execution_count": 3,
   "id": "7cb413d3-11aa-4d78-a205-9bd5dcb0d613",
   "metadata": {},
   "outputs": [],
   "source": [
    "x1 = np.array(df['Pregnancies'])\n",
    "x2 = np.array(df['Glucose'])\n",
    "x3 = np.array(df['BloodPressure'])\n",
    "x4 = np.array(df['SkinThickness'])\n",
    "x5 = np.array(df['Insulin'])\n",
    "x6 = np.array(df['BMI'])\n",
    "x7 = np.array(df['DiabetesPedigreeFunction'])\n",
    "x8 = np.array(df['Age'])\n",
    "\n",
    "y = np.array(df['Outcome'])"
   ]
  },
  {
   "cell_type": "code",
   "execution_count": 4,
   "id": "2f3e0324-256f-46bb-990d-0fd73ba2be63",
   "metadata": {},
   "outputs": [],
   "source": [
    "def Activation(x):\n",
    "    if x >= 0.5:\n",
    "        return 1 \n",
    "    else:\n",
    "        return 0\n",
    "\n",
    "def preActivation(x1,x2,x3,x4,x5,x6,x7,x8,w1,w2,w3,w4,w5,w6,w7,w8):\n",
    "    return float(w1*x1 + w2*x2 + w3*x3 + w4*x4 + w5*x5 + w6*x6 + w7*x7 + w8*x8)\n",
    "\n",
    "\n",
    "def activationFunction(x1,x2,x3,x4,x5,x6,x7,x8,w1,w2,w3,w4,w5,w6,w7,w8):\n",
    "    if preActivation(x1,x2,x3,x4,x5,x6,x7,x8,w1,w2,w3,w4,w5,w6,w7,w8) >= 0.5:\n",
    "        return 1\n",
    "    else:\n",
    "        return 0\n",
    "\n",
    "def errorFunction(x1,x2,x3,x4,x5,x6,x7,x8,w1,w2,w3,w4,w5,w6,w7,w8,y):\n",
    "    return (y - activationFunction(x1,x2,x3,x4,x5,x6,x7,x8,w1,w2,w3,w4,w5,w6,w7,w8))\n",
    "\n",
    "\n",
    "def lossFunction(x1,x2,x3,x4,x5,x6,x7,x8,w1,w2,w3,w4,w5,w6,w7,w8,y):\n",
    "    err = 0\n",
    "    for i in range(len(y)):\n",
    "        err += (errorFunction(x1[i],x2[i],x3[i],x4[i],x5[i],x6[i],x7[i],x8[i],w1,w2,w3,w4,w5,w6,w7,w8,y[i]))\n",
    "    return err\n",
    "    "
   ]
  },
  {
   "cell_type": "code",
   "execution_count": 5,
   "id": "7a472fd4-13c7-4e89-8a6e-abda73fe1785",
   "metadata": {},
   "outputs": [],
   "source": [
    "def perceptronTraing(x1,x2,x3,x4,x5,x6,x7,x8,y):\n",
    "    epoch = 0\n",
    "    w1 = 0.1\n",
    "    w2 = 0.2\n",
    "    w3 = 0.1\n",
    "    w4 = 0.2\n",
    "    w5 = 0.1\n",
    "    w6 = 0.2\n",
    "    w7 = 0.1\n",
    "    w8 = 0.2\n",
    "    lemda = 0.1\n",
    "\n",
    "    epochs_list = []\n",
    "    loss_list = []\n",
    "\n",
    "    while (True):\n",
    "        for i in range(len(y)):\n",
    "            w1 += lemda*(errorFunction(x1[i],x2[i],x3[i],x4[i],x5[i],x6[i],x7[i],x8[i],w1,w2,w3,w4,w5,w6,w7,w8,y[i]))*x1[i]\n",
    "            w2 += lemda*(errorFunction(x1[i],x2[i],x3[i],x4[i],x5[i],x6[i],x7[i],x8[i],w1,w2,w3,w4,w5,w6,w7,w8,y[i]))*x2[i]\n",
    "            \n",
    "            w3 += lemda*(errorFunction(x1[i],x2[i],x3[i],x4[i],x5[i],x6[i],x7[i],x8[i],w1,w2,w3,w4,w5,w6,w7,w8,y[i]))*x3[i]\n",
    "            w4 += lemda*(errorFunction(x1[i],x2[i],x3[i],x4[i],x5[i],x6[i],x7[i],x8[i],w1,w2,w3,w4,w5,w6,w7,w8,y[i]))*x4[i]\n",
    "            \n",
    "            w5 += lemda*(errorFunction(x1[i],x2[i],x3[i],x4[i],x5[i],x6[i],x7[i],x8[i],w1,w2,w3,w4,w5,w6,w7,w8,y[i]))*x5[i]\n",
    "            w6 += lemda*(errorFunction(x1[i],x2[i],x3[i],x4[i],x5[i],x6[i],x7[i],x8[i],w1,w2,w3,w4,w5,w6,w7,w8,y[i]))*x6[i]\n",
    "            \n",
    "            w7 += lemda*(errorFunction(x1[i],x2[i],x3[i],x4[i],x5[i],x6[i],x7[i],x8[i],w1,w2,w3,w4,w5,w6,w7,w8,y[i]))*x7[i]\n",
    "            w8 += lemda*(errorFunction(x1[i],x2[i],x3[i],x4[i],x5[i],x6[i],x7[i],x8[i],w1,w2,w3,w4,w5,w6,w7,w8,y[i]))*x8[i]\n",
    "            \n",
    "        epoch += 1\n",
    "        epochs_list.append(epoch)\n",
    "        loss_list.append(lossFunction(x1,x2,x3,x4,x5,x6,x7,x8,w1,w2,w3,w4,w5,w6,w7,w8,y))\n",
    "       # print(epoch)\n",
    "        if(lossFunction(x1,x2,x3,x4,x5,x6,x7,x8,w1,w2,w3,w4,w5,w6,w7,w8,y) == 0 or epoch == 1000):\n",
    "            print('After '+str(epoch)+'th Epoch')\n",
    "            print('w1 =  '+str(w1))\n",
    "            print('w2 =  '+str(w2))\n",
    "            \n",
    "            print('w3 =  '+str(w3))\n",
    "            print('w4 =  '+str(w4))\n",
    "            \n",
    "            print('w5 =  '+str(w5))\n",
    "            print('w6 =  '+str(w6))\n",
    "            \n",
    "            print('w7 =  '+str(w7))\n",
    "            print('w8 =  '+str(w8))\n",
    "\n",
    "            print('Loss := ',lossFunction(x1,x2,x3,x4,x5,x6,x7,x8,w1,w2,w3,w4,w5,w6,w7,w8,y))\n",
    "            break\n",
    "\n",
    "    return w1,w2,w3,w4,w5,w6,w7,w8,loss_list,epochs_list\n",
    "    "
   ]
  },
  {
   "cell_type": "code",
   "execution_count": 6,
   "id": "72c56898-fa35-4c03-8213-a7ace56dec61",
   "metadata": {},
   "outputs": [
    {
     "name": "stdout",
     "output_type": "stream",
     "text": [
      "After 99th Epoch\n",
      "w1 =  128.60000000001702\n",
      "w2 =  8.399999999997814\n",
      "w3 =  3.4000000000005786\n",
      "w4 =  0.39999999999996305\n",
      "w5 =  -3.3999999999997077\n",
      "w6 =  -9.749999999999934\n",
      "w7 =  1.3023000000000036\n",
      "w8 =  -41.70000000000027\n",
      "Loss :=  0\n"
     ]
    }
   ],
   "source": [
    "w1,w2,w3,w4,w5,w6,w7,w8,loss_list,epochs_list = perceptronTraing(x1,x2,x3,x4,x5,x6,x7,x8,y)"
   ]
  },
  {
   "cell_type": "code",
   "execution_count": 7,
   "id": "f3a393f3-b545-4059-9b47-a78eedb149fa",
   "metadata": {},
   "outputs": [
    {
     "data": {
      "image/png": "[encoded data removed]",
      "text/plain": [
       "<Figure size 1000x500 with 1 Axes>"
      ]
     },
     "metadata": {},
     "output_type": "display_data"
    }
   ],
   "source": [
    "plt.figure(figsize=(10, 5))\n",
    "plt.plot(epochs_list, loss_list, marker='o', color='b', label='Loss')\n",
    "plt.title('Loss vs. Epochs')\n",
    "plt.xlabel('Epochs')\n",
    "plt.ylabel('Loss')\n",
    "plt.legend()\n",
    "plt.grid()\n",
    "plt.show()"
   ]
  },
  {
   "cell_type": "code",
   "execution_count": 8,
   "id": "abbb99f8-aa4f-49b9-a210-d65df8cbeaf9",
   "metadata": {},
   "outputs": [],
   "source": [
    "def prediction(x1,x2,x3,x4,x5,x6,x7,x8):\n",
    "    if (activationFunction(x1,x2,x3,x4,x5,x6,x7,x8,w1,w2,w3,w4,w5,w6,w7,w8) == 0):\n",
    "        print('Lebel 0:- Not Diabetes')\n",
    "    else:\n",
    "        print('Lebel 1:- Diabetes')"
   ]
  },
  {
   "cell_type": "code",
   "execution_count": 9,
   "id": "3064880e-6766-4d9a-98b3-01284976699d",
   "metadata": {},
   "outputs": [
    {
     "data": {
      "text/html": [
       "<div>\n",
       "<style scoped>\n",
       "    .dataframe tbody tr th:only-of-type {\n",
       "        vertical-align: middle;\n",
       "    }\n",
       "\n",
       "    .dataframe tbody tr th {\n",
       "        vertical-align: top;\n",
       "    }\n",
       "\n",
       "    .dataframe thead th {\n",
       "        text-align: right;\n",
       "    }\n",
       "</style>\n",
       "<table border=\"1\" class=\"dataframe\">\n",
       "  <thead>\n",
       "    <tr style=\"text-align: right;\">\n",
       "      <th></th>\n",
       "      <th>Pregnancies</th>\n",
       "      <th>Glucose</th>\n",
       "      <th>BloodPressure</th>\n",
       "      <th>SkinThickness</th>\n",
       "      <th>Insulin</th>\n",
       "      <th>BMI</th>\n",
       "      <th>DiabetesPedigreeFunction</th>\n",
       "      <th>Age</th>\n",
       "      <th>Outcome</th>\n",
       "    </tr>\n",
       "  </thead>\n",
       "  <tbody>\n",
       "    <tr>\n",
       "      <th>0</th>\n",
       "      <td>6</td>\n",
       "      <td>148</td>\n",
       "      <td>72</td>\n",
       "      <td>35</td>\n",
       "      <td>0</td>\n",
       "      <td>33.6</td>\n",
       "      <td>0.627</td>\n",
       "      <td>50</td>\n",
       "      <td>1</td>\n",
       "    </tr>\n",
       "    <tr>\n",
       "      <th>1</th>\n",
       "      <td>1</td>\n",
       "      <td>85</td>\n",
       "      <td>66</td>\n",
       "      <td>29</td>\n",
       "      <td>0</td>\n",
       "      <td>26.6</td>\n",
       "      <td>0.351</td>\n",
       "      <td>31</td>\n",
       "      <td>0</td>\n",
       "    </tr>\n",
       "    <tr>\n",
       "      <th>2</th>\n",
       "      <td>8</td>\n",
       "      <td>183</td>\n",
       "      <td>64</td>\n",
       "      <td>0</td>\n",
       "      <td>0</td>\n",
       "      <td>23.3</td>\n",
       "      <td>0.672</td>\n",
       "      <td>32</td>\n",
       "      <td>1</td>\n",
       "    </tr>\n",
       "    <tr>\n",
       "      <th>3</th>\n",
       "      <td>1</td>\n",
       "      <td>89</td>\n",
       "      <td>66</td>\n",
       "      <td>23</td>\n",
       "      <td>94</td>\n",
       "      <td>28.1</td>\n",
       "      <td>0.167</td>\n",
       "      <td>21</td>\n",
       "      <td>0</td>\n",
       "    </tr>\n",
       "    <tr>\n",
       "      <th>4</th>\n",
       "      <td>0</td>\n",
       "      <td>137</td>\n",
       "      <td>40</td>\n",
       "      <td>35</td>\n",
       "      <td>168</td>\n",
       "      <td>43.1</td>\n",
       "      <td>2.288</td>\n",
       "      <td>33</td>\n",
       "      <td>1</td>\n",
       "    </tr>\n",
       "  </tbody>\n",
       "</table>\n",
       "</div>"
      ],
      "text/plain": [
       "   Pregnancies  Glucose  BloodPressure  SkinThickness  Insulin   BMI  \\\n",
       "0            6      148             72             35        0  33.6   \n",
       "1            1       85             66             29        0  26.6   \n",
       "2            8      183             64              0        0  23.3   \n",
       "3            1       89             66             23       94  28.1   \n",
       "4            0      137             40             35      168  43.1   \n",
       "\n",
       "   DiabetesPedigreeFunction  Age  Outcome  \n",
       "0                     0.627   50        1  \n",
       "1                     0.351   31        0  \n",
       "2                     0.672   32        1  \n",
       "3                     0.167   21        0  \n",
       "4                     2.288   33        1  "
      ]
     },
     "execution_count": 9,
     "metadata": {},
     "output_type": "execute_result"
    }
   ],
   "source": [
    "df = pd.read_csv('diabetes.csv')\n",
    "df.head(5)"
   ]
  },
  {
   "cell_type": "code",
   "execution_count": 10,
   "id": "d43bfc6e-3cee-4b5e-838f-567fa391ea7c",
   "metadata": {},
   "outputs": [
    {
     "name": "stdout",
     "output_type": "stream",
     "text": [
      "Lebel 1:- Diabetes\n"
     ]
    }
   ],
   "source": [
    "x1 = 8\n",
    "x2 = 183\n",
    "x3 = 64\n",
    "x4 = 0\n",
    "x5 = 0\n",
    "x6 = 23.3\n",
    "x7 =0.672\n",
    "x8 = 32\n",
    "\n",
    "prediction(x1,x2,x3,x4,x5,x6,x7,x8)"
   ]
  },
  {
   "cell_type": "code",
   "execution_count": 11,
   "id": "4f71d12e-4176-42f2-8e72-017cdb5442ee",
   "metadata": {},
   "outputs": [
    {
     "name": "stdout",
     "output_type": "stream",
     "text": [
      "Lebel 0:- Not Diabetes\n"
     ]
    }
   ],
   "source": [
    "x1 = 1\n",
    "x2 = 85\n",
    "x3 = 66\n",
    "x4 = 29\n",
    "x5 = 0\n",
    "x6 = 26.6\n",
    "x7 = 0.351\n",
    "x8 = 31\n",
    "\n",
    "prediction(x1,x2,x3,x4,x5,x6,x7,x8)"
   ]
  },
  {
   "cell_type": "code",
   "execution_count": null,
   "id": "b0b05257-fbfd-4ace-a270-ac42a8cb35c6",
   "metadata": {},
   "outputs": [],
   "source": []
  },
  {
   "cell_type": "code",
   "execution_count": null,
   "id": "24bc6104-714e-4044-ae63-b58a44c7e864",
   "metadata": {},
   "outputs": [],
   "source": []
  },
  {
   "cell_type": "code",
   "execution_count": null,
   "id": "a5125134-d961-4c6d-961b-e3ac4364b4ef",
   "metadata": {},
   "outputs": [],
   "source": []
  },
  {
   "cell_type": "code",
   "execution_count": null,
   "id": "58d37510-7f0e-4693-bc13-850bc1fcde33",
   "metadata": {},
   "outputs": [],
   "source": []
  },
  {
   "cell_type": "code",
   "execution_count": null,
   "id": "06e3b53f-35a9-4ce6-996f-e57eee502072",
   "metadata": {},
   "outputs": [],
   "source": []
  },
  {
   "cell_type": "code",
   "execution_count": null,
   "id": "97993495-a8d9-44ee-8b68-b86188af37db",
   "metadata": {},
   "outputs": [],
   "source": []
  }
 ],
 "metadata": {
  "kernelspec": {
   "display_name": "Python 3",
   "language": "python",
   "name": "python3"
  },
  "language_info": {
   "codemirror_mode": {
    "name": "ipython",
    "version": 3
   },
   "file_extension": ".py",
   "mimetype": "text/x-python",
   "name": "python",
   "nbconvert_exporter": "python",
   "pygments_lexer": "ipython3",
   "version": "3.9.0"
  }
 },
 "nbformat": 4,
 "nbformat_minor": 5
}
