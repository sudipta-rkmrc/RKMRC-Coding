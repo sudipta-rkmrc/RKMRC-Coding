{
 "cells": [
  {
   "cell_type": "code",
   "execution_count": null,
   "metadata": {
    "id": "J45PdNNmhqTd"
   },
   "outputs": [],
   "source": [
    "import numpy as np \n",
    "import matplotlib.pyplot as plt  \n",
    "import pandas as pd  \n",
    "import seaborn as sns\n",
    "import keras\n",
    "import tensorflow as tf"
   ]
  },
  {
   "cell_type": "code",
   "execution_count": null,
   "metadata": {
    "id": "UFaFzll2h3F6"
   },
   "outputs": [],
   "source": [
    "from tensorflow.keras.models import Sequential\n",
    "from tensorflow.keras.layers import Dense,Dropout\n",
    "from tensorflow.keras.optimizers import RMSprop,Adam\n",
    "from tensorflow.keras.utils import to_categorical"
   ]
  },
  {
   "cell_type": "code",
   "execution_count": null,
   "metadata": {
    "colab": {
     "base_uri": "https://localhost:8080/"
    },
    "id": "rzCJ3_c_iC6t",
    "outputId": "5d8b6de9-f582-482a-8550-b7a2f99175c3"
   },
   "outputs": [
    {
     "name": "stdout",
     "output_type": "stream",
     "text": [
      "Mounted at /content/drive\n"
     ]
    }
   ],
   "source": [
    "from google.colab import drive\n",
    "drive.mount('/content/drive')"
   ]
  },
  {
   "cell_type": "code",
   "execution_count": null,
   "metadata": {
    "id": "aIKw7s9ii7d9"
   },
   "outputs": [],
   "source": [
    "#importing datasets  \n",
    "df= pd.read_csv('./drive/MyDrive/Dataset/diabetes.csv')  "
   ]
  },
  {
   "cell_type": "code",
   "execution_count": null,
   "metadata": {
    "colab": {
     "base_uri": "https://localhost:8080/",
     "height": 250
    },
    "id": "oShS54niF-gN",
    "outputId": "5b231f46-6b41-41ca-98ae-8662ca9ede90"
   },
   "outputs": [
    {
     "data": {
      "text/html": [
       "\n",
       "  <div id=\"df-3339d53a-9d7b-48f9-98cb-0a9ba95f1ad7\">\n",
       "    <div class=\"colab-df-container\">\n",
       "      <div>\n",
       "<style scoped>\n",
       "    .dataframe tbody tr th:only-of-type {\n",
       "        vertical-align: middle;\n",
       "    }\n",
       "\n",
       "    .dataframe tbody tr th {\n",
       "        vertical-align: top;\n",
       "    }\n",
       "\n",
       "    .dataframe thead th {\n",
       "        text-align: right;\n",
       "    }\n",
       "</style>\n",
       "<table border=\"1\" class=\"dataframe\">\n",
       "  <thead>\n",
       "    <tr style=\"text-align: right;\">\n",
       "      <th></th>\n",
       "      <th>Pregnancies</th>\n",
       "      <th>Glucose</th>\n",
       "      <th>BloodPressure</th>\n",
       "      <th>SkinThickness</th>\n",
       "      <th>Insulin</th>\n",
       "      <th>BMI</th>\n",
       "      <th>DiabetesPedigreeFunction</th>\n",
       "      <th>Age</th>\n",
       "      <th>Outcome</th>\n",
       "    </tr>\n",
       "  </thead>\n",
       "  <tbody>\n",
       "    <tr>\n",
       "      <th>0</th>\n",
       "      <td>6</td>\n",
       "      <td>148</td>\n",
       "      <td>72</td>\n",
       "      <td>35</td>\n",
       "      <td>0</td>\n",
       "      <td>33.6</td>\n",
       "      <td>0.627</td>\n",
       "      <td>50</td>\n",
       "      <td>1</td>\n",
       "    </tr>\n",
       "    <tr>\n",
       "      <th>1</th>\n",
       "      <td>1</td>\n",
       "      <td>85</td>\n",
       "      <td>66</td>\n",
       "      <td>29</td>\n",
       "      <td>0</td>\n",
       "      <td>26.6</td>\n",
       "      <td>0.351</td>\n",
       "      <td>31</td>\n",
       "      <td>0</td>\n",
       "    </tr>\n",
       "    <tr>\n",
       "      <th>2</th>\n",
       "      <td>8</td>\n",
       "      <td>183</td>\n",
       "      <td>64</td>\n",
       "      <td>0</td>\n",
       "      <td>0</td>\n",
       "      <td>23.3</td>\n",
       "      <td>0.672</td>\n",
       "      <td>32</td>\n",
       "      <td>1</td>\n",
       "    </tr>\n",
       "    <tr>\n",
       "      <th>3</th>\n",
       "      <td>1</td>\n",
       "      <td>89</td>\n",
       "      <td>66</td>\n",
       "      <td>23</td>\n",
       "      <td>94</td>\n",
       "      <td>28.1</td>\n",
       "      <td>0.167</td>\n",
       "      <td>21</td>\n",
       "      <td>0</td>\n",
       "    </tr>\n",
       "    <tr>\n",
       "      <th>4</th>\n",
       "      <td>0</td>\n",
       "      <td>137</td>\n",
       "      <td>40</td>\n",
       "      <td>35</td>\n",
       "      <td>168</td>\n",
       "      <td>43.1</td>\n",
       "      <td>2.288</td>\n",
       "      <td>33</td>\n",
       "      <td>1</td>\n",
       "    </tr>\n",
       "  </tbody>\n",
       "</table>\n",
       "</div>\n",
       "      <button class=\"colab-df-convert\" onclick=\"convertToInteractive('df-3339d53a-9d7b-48f9-98cb-0a9ba95f1ad7')\"\n",
       "              title=\"Convert this dataframe to an interactive table.\"\n",
       "              style=\"display:none;\">\n",
       "        \n",
       "  <svg xmlns=\"http://www.w3.org/2000/svg\" height=\"24px\"viewBox=\"0 0 24 24\"\n",
       "       width=\"24px\">\n",
       "    <path d=\"M0 0h24v24H0V0z\" fill=\"none\"/>\n",
       "    <path d=\"M18.56 5.44l.94 2.06.94-2.06 2.06-.94-2.06-.94-.94-2.06-.94 2.06-2.06.94zm-11 1L8.5 8.5l.94-2.06 2.06-.94-2.06-.94L8.5 2.5l-.94 2.06-2.06.94zm10 10l.94 2.06.94-2.06 2.06-.94-2.06-.94-.94-2.06-.94 2.06-2.06.94z\"/><path d=\"M17.41 7.96l-1.37-1.37c-.4-.4-.92-.59-1.43-.59-.52 0-1.04.2-1.43.59L10.3 9.45l-7.72 7.72c-.78.78-.78 2.05 0 2.83L4 21.41c.39.39.9.59 1.41.59.51 0 1.02-.2 1.41-.59l7.78-7.78 2.81-2.81c.8-.78.8-2.07 0-2.86zM5.41 20L4 18.59l7.72-7.72 1.47 1.35L5.41 20z\"/>\n",
       "  </svg>\n",
       "      </button>\n",
       "      \n",
       "  <style>\n",
       "    .colab-df-container {\n",
       "      display:flex;\n",
       "      flex-wrap:wrap;\n",
       "      gap: 12px;\n",
       "    }\n",
       "\n",
       "    .colab-df-convert {\n",
       "      background-color: #E8F0FE;\n",
       "      border: none;\n",
       "      border-radius: 50%;\n",
       "      cursor: pointer;\n",
       "      display: none;\n",
       "      fill: #1967D2;\n",
       "      height: 32px;\n",
       "      padding: 0 0 0 0;\n",
       "      width: 32px;\n",
       "    }\n",
       "\n",
       "    .colab-df-convert:hover {\n",
       "      background-color: #E2EBFA;\n",
       "      box-shadow: 0px 1px 2px rgba(60, 64, 67, 0.3), 0px 1px 3px 1px rgba(60, 64, 67, 0.15);\n",
       "      fill: #174EA6;\n",
       "    }\n",
       "\n",
       "    [theme=dark] .colab-df-convert {\n",
       "      background-color: #3B4455;\n",
       "      fill: #D2E3FC;\n",
       "    }\n",
       "\n",
       "    [theme=dark] .colab-df-convert:hover {\n",
       "      background-color: #434B5C;\n",
       "      box-shadow: 0px 1px 3px 1px rgba(0, 0, 0, 0.15);\n",
       "      filter: drop-shadow(0px 1px 2px rgba(0, 0, 0, 0.3));\n",
       "      fill: #FFFFFF;\n",
       "    }\n",
       "  </style>\n",
       "\n",
       "      <script>\n",
       "        const buttonEl =\n",
       "          document.querySelector('#df-3339d53a-9d7b-48f9-98cb-0a9ba95f1ad7 button.colab-df-convert');\n",
       "        buttonEl.style.display =\n",
       "          google.colab.kernel.accessAllowed ? 'block' : 'none';\n",
       "\n",
       "        async function convertToInteractive(key) {\n",
       "          const element = document.querySelector('#df-3339d53a-9d7b-48f9-98cb-0a9ba95f1ad7');\n",
       "          const dataTable =\n",
       "            await google.colab.kernel.invokeFunction('convertToInteractive',\n",
       "                                                     [key], {});\n",
       "          if (!dataTable) return;\n",
       "\n",
       "          const docLinkHtml = 'Like what you see? Visit the ' +\n",
       "            '<a target=\"_blank\" href=https://colab.research.google.com/notebooks/data_table.ipynb>data table notebook</a>'\n",
       "            + ' to learn more about interactive tables.';\n",
       "          element.innerHTML = '';\n",
       "          dataTable['output_type'] = 'display_data';\n",
       "          await google.colab.output.renderOutput(dataTable, element);\n",
       "          const docLink = document.createElement('div');\n",
       "          docLink.innerHTML = docLinkHtml;\n",
       "          element.appendChild(docLink);\n",
       "        }\n",
       "      </script>\n",
       "    </div>\n",
       "  </div>\n",
       "  "
      ],
      "text/plain": [
       "   Pregnancies  Glucose  BloodPressure  SkinThickness  Insulin   BMI  \\\n",
       "0            6      148             72             35        0  33.6   \n",
       "1            1       85             66             29        0  26.6   \n",
       "2            8      183             64              0        0  23.3   \n",
       "3            1       89             66             23       94  28.1   \n",
       "4            0      137             40             35      168  43.1   \n",
       "\n",
       "   DiabetesPedigreeFunction  Age  Outcome  \n",
       "0                     0.627   50        1  \n",
       "1                     0.351   31        0  \n",
       "2                     0.672   32        1  \n",
       "3                     0.167   21        0  \n",
       "4                     2.288   33        1  "
      ]
     },
     "execution_count": 5,
     "metadata": {},
     "output_type": "execute_result"
    }
   ],
   "source": [
    "df.head()"
   ]
  },
  {
   "cell_type": "code",
   "execution_count": null,
   "metadata": {
    "colab": {
     "base_uri": "https://localhost:8080/"
    },
    "id": "GitA9Pzaaiki",
    "outputId": "bdd970e7-c5a1-412c-ab00-1086b395cbe1"
   },
   "outputs": [
    {
     "data": {
      "text/plain": [
       "(768, 9)"
      ]
     },
     "execution_count": 6,
     "metadata": {},
     "output_type": "execute_result"
    }
   ],
   "source": [
    "df.shape"
   ]
  },
  {
   "cell_type": "code",
   "execution_count": null,
   "metadata": {
    "id": "ZbOjSZyekN5a"
   },
   "outputs": [],
   "source": [
    "x=df.iloc[:,0:8]\n",
    "y=df.iloc[:,-1]"
   ]
  },
  {
   "cell_type": "code",
   "execution_count": null,
   "metadata": {
    "colab": {
     "base_uri": "https://localhost:8080/",
     "height": 363
    },
    "id": "l0KL-C3XavX0",
    "outputId": "85221874-8004-4460-e1f6-03edd2c923fa"
   },
   "outputs": [
    {
     "data": {
      "text/html": [
       "\n",
       "  <div id=\"df-7efb6dac-2c66-4bcc-91fd-48947d63cffe\">\n",
       "    <div class=\"colab-df-container\">\n",
       "      <div>\n",
       "<style scoped>\n",
       "    .dataframe tbody tr th:only-of-type {\n",
       "        vertical-align: middle;\n",
       "    }\n",
       "\n",
       "    .dataframe tbody tr th {\n",
       "        vertical-align: top;\n",
       "    }\n",
       "\n",
       "    .dataframe thead th {\n",
       "        text-align: right;\n",
       "    }\n",
       "</style>\n",
       "<table border=\"1\" class=\"dataframe\">\n",
       "  <thead>\n",
       "    <tr style=\"text-align: right;\">\n",
       "      <th></th>\n",
       "      <th>Pregnancies</th>\n",
       "      <th>Glucose</th>\n",
       "      <th>BloodPressure</th>\n",
       "      <th>SkinThickness</th>\n",
       "      <th>Insulin</th>\n",
       "      <th>BMI</th>\n",
       "      <th>DiabetesPedigreeFunction</th>\n",
       "      <th>Age</th>\n",
       "    </tr>\n",
       "  </thead>\n",
       "  <tbody>\n",
       "    <tr>\n",
       "      <th>300</th>\n",
       "      <td>0</td>\n",
       "      <td>167</td>\n",
       "      <td>0</td>\n",
       "      <td>0</td>\n",
       "      <td>0</td>\n",
       "      <td>32.3</td>\n",
       "      <td>0.839</td>\n",
       "      <td>30</td>\n",
       "    </tr>\n",
       "    <tr>\n",
       "      <th>301</th>\n",
       "      <td>2</td>\n",
       "      <td>144</td>\n",
       "      <td>58</td>\n",
       "      <td>33</td>\n",
       "      <td>135</td>\n",
       "      <td>31.6</td>\n",
       "      <td>0.422</td>\n",
       "      <td>25</td>\n",
       "    </tr>\n",
       "    <tr>\n",
       "      <th>302</th>\n",
       "      <td>5</td>\n",
       "      <td>77</td>\n",
       "      <td>82</td>\n",
       "      <td>41</td>\n",
       "      <td>42</td>\n",
       "      <td>35.8</td>\n",
       "      <td>0.156</td>\n",
       "      <td>35</td>\n",
       "    </tr>\n",
       "    <tr>\n",
       "      <th>303</th>\n",
       "      <td>5</td>\n",
       "      <td>115</td>\n",
       "      <td>98</td>\n",
       "      <td>0</td>\n",
       "      <td>0</td>\n",
       "      <td>52.9</td>\n",
       "      <td>0.209</td>\n",
       "      <td>28</td>\n",
       "    </tr>\n",
       "    <tr>\n",
       "      <th>304</th>\n",
       "      <td>3</td>\n",
       "      <td>150</td>\n",
       "      <td>76</td>\n",
       "      <td>0</td>\n",
       "      <td>0</td>\n",
       "      <td>21.0</td>\n",
       "      <td>0.207</td>\n",
       "      <td>37</td>\n",
       "    </tr>\n",
       "    <tr>\n",
       "      <th>305</th>\n",
       "      <td>2</td>\n",
       "      <td>120</td>\n",
       "      <td>76</td>\n",
       "      <td>37</td>\n",
       "      <td>105</td>\n",
       "      <td>39.7</td>\n",
       "      <td>0.215</td>\n",
       "      <td>29</td>\n",
       "    </tr>\n",
       "    <tr>\n",
       "      <th>306</th>\n",
       "      <td>10</td>\n",
       "      <td>161</td>\n",
       "      <td>68</td>\n",
       "      <td>23</td>\n",
       "      <td>132</td>\n",
       "      <td>25.5</td>\n",
       "      <td>0.326</td>\n",
       "      <td>47</td>\n",
       "    </tr>\n",
       "    <tr>\n",
       "      <th>307</th>\n",
       "      <td>0</td>\n",
       "      <td>137</td>\n",
       "      <td>68</td>\n",
       "      <td>14</td>\n",
       "      <td>148</td>\n",
       "      <td>24.8</td>\n",
       "      <td>0.143</td>\n",
       "      <td>21</td>\n",
       "    </tr>\n",
       "    <tr>\n",
       "      <th>308</th>\n",
       "      <td>0</td>\n",
       "      <td>128</td>\n",
       "      <td>68</td>\n",
       "      <td>19</td>\n",
       "      <td>180</td>\n",
       "      <td>30.5</td>\n",
       "      <td>1.391</td>\n",
       "      <td>25</td>\n",
       "    </tr>\n",
       "    <tr>\n",
       "      <th>309</th>\n",
       "      <td>2</td>\n",
       "      <td>124</td>\n",
       "      <td>68</td>\n",
       "      <td>28</td>\n",
       "      <td>205</td>\n",
       "      <td>32.9</td>\n",
       "      <td>0.875</td>\n",
       "      <td>30</td>\n",
       "    </tr>\n",
       "  </tbody>\n",
       "</table>\n",
       "</div>\n",
       "      <button class=\"colab-df-convert\" onclick=\"convertToInteractive('df-7efb6dac-2c66-4bcc-91fd-48947d63cffe')\"\n",
       "              title=\"Convert this dataframe to an interactive table.\"\n",
       "              style=\"display:none;\">\n",
       "        \n",
       "  <svg xmlns=\"http://www.w3.org/2000/svg\" height=\"24px\"viewBox=\"0 0 24 24\"\n",
       "       width=\"24px\">\n",
       "    <path d=\"M0 0h24v24H0V0z\" fill=\"none\"/>\n",
       "    <path d=\"M18.56 5.44l.94 2.06.94-2.06 2.06-.94-2.06-.94-.94-2.06-.94 2.06-2.06.94zm-11 1L8.5 8.5l.94-2.06 2.06-.94-2.06-.94L8.5 2.5l-.94 2.06-2.06.94zm10 10l.94 2.06.94-2.06 2.06-.94-2.06-.94-.94-2.06-.94 2.06-2.06.94z\"/><path d=\"M17.41 7.96l-1.37-1.37c-.4-.4-.92-.59-1.43-.59-.52 0-1.04.2-1.43.59L10.3 9.45l-7.72 7.72c-.78.78-.78 2.05 0 2.83L4 21.41c.39.39.9.59 1.41.59.51 0 1.02-.2 1.41-.59l7.78-7.78 2.81-2.81c.8-.78.8-2.07 0-2.86zM5.41 20L4 18.59l7.72-7.72 1.47 1.35L5.41 20z\"/>\n",
       "  </svg>\n",
       "      </button>\n",
       "      \n",
       "  <style>\n",
       "    .colab-df-container {\n",
       "      display:flex;\n",
       "      flex-wrap:wrap;\n",
       "      gap: 12px;\n",
       "    }\n",
       "\n",
       "    .colab-df-convert {\n",
       "      background-color: #E8F0FE;\n",
       "      border: none;\n",
       "      border-radius: 50%;\n",
       "      cursor: pointer;\n",
       "      display: none;\n",
       "      fill: #1967D2;\n",
       "      height: 32px;\n",
       "      padding: 0 0 0 0;\n",
       "      width: 32px;\n",
       "    }\n",
       "\n",
       "    .colab-df-convert:hover {\n",
       "      background-color: #E2EBFA;\n",
       "      box-shadow: 0px 1px 2px rgba(60, 64, 67, 0.3), 0px 1px 3px 1px rgba(60, 64, 67, 0.15);\n",
       "      fill: #174EA6;\n",
       "    }\n",
       "\n",
       "    [theme=dark] .colab-df-convert {\n",
       "      background-color: #3B4455;\n",
       "      fill: #D2E3FC;\n",
       "    }\n",
       "\n",
       "    [theme=dark] .colab-df-convert:hover {\n",
       "      background-color: #434B5C;\n",
       "      box-shadow: 0px 1px 3px 1px rgba(0, 0, 0, 0.15);\n",
       "      filter: drop-shadow(0px 1px 2px rgba(0, 0, 0, 0.3));\n",
       "      fill: #FFFFFF;\n",
       "    }\n",
       "  </style>\n",
       "\n",
       "      <script>\n",
       "        const buttonEl =\n",
       "          document.querySelector('#df-7efb6dac-2c66-4bcc-91fd-48947d63cffe button.colab-df-convert');\n",
       "        buttonEl.style.display =\n",
       "          google.colab.kernel.accessAllowed ? 'block' : 'none';\n",
       "\n",
       "        async function convertToInteractive(key) {\n",
       "          const element = document.querySelector('#df-7efb6dac-2c66-4bcc-91fd-48947d63cffe');\n",
       "          const dataTable =\n",
       "            await google.colab.kernel.invokeFunction('convertToInteractive',\n",
       "                                                     [key], {});\n",
       "          if (!dataTable) return;\n",
       "\n",
       "          const docLinkHtml = 'Like what you see? Visit the ' +\n",
       "            '<a target=\"_blank\" href=https://colab.research.google.com/notebooks/data_table.ipynb>data table notebook</a>'\n",
       "            + ' to learn more about interactive tables.';\n",
       "          element.innerHTML = '';\n",
       "          dataTable['output_type'] = 'display_data';\n",
       "          await google.colab.output.renderOutput(dataTable, element);\n",
       "          const docLink = document.createElement('div');\n",
       "          docLink.innerHTML = docLinkHtml;\n",
       "          element.appendChild(docLink);\n",
       "        }\n",
       "      </script>\n",
       "    </div>\n",
       "  </div>\n",
       "  "
      ],
      "text/plain": [
       "     Pregnancies  Glucose  BloodPressure  SkinThickness  Insulin   BMI  \\\n",
       "300            0      167              0              0        0  32.3   \n",
       "301            2      144             58             33      135  31.6   \n",
       "302            5       77             82             41       42  35.8   \n",
       "303            5      115             98              0        0  52.9   \n",
       "304            3      150             76              0        0  21.0   \n",
       "305            2      120             76             37      105  39.7   \n",
       "306           10      161             68             23      132  25.5   \n",
       "307            0      137             68             14      148  24.8   \n",
       "308            0      128             68             19      180  30.5   \n",
       "309            2      124             68             28      205  32.9   \n",
       "\n",
       "     DiabetesPedigreeFunction  Age  \n",
       "300                     0.839   30  \n",
       "301                     0.422   25  \n",
       "302                     0.156   35  \n",
       "303                     0.209   28  \n",
       "304                     0.207   37  \n",
       "305                     0.215   29  \n",
       "306                     0.326   47  \n",
       "307                     0.143   21  \n",
       "308                     1.391   25  \n",
       "309                     0.875   30  "
      ]
     },
     "execution_count": 8,
     "metadata": {},
     "output_type": "execute_result"
    }
   ],
   "source": [
    "x[300:310]"
   ]
  },
  {
   "cell_type": "code",
   "execution_count": null,
   "metadata": {
    "colab": {
     "base_uri": "https://localhost:8080/"
    },
    "id": "IwyuenuTkPSd",
    "outputId": "9a4839e9-31a4-48b9-a2fa-7c8120ac08f1"
   },
   "outputs": [
    {
     "data": {
      "text/plain": [
       "(768, 8)"
      ]
     },
     "execution_count": 9,
     "metadata": {},
     "output_type": "execute_result"
    }
   ],
   "source": [
    "x.shape"
   ]
  },
  {
   "cell_type": "code",
   "execution_count": null,
   "metadata": {
    "colab": {
     "base_uri": "https://localhost:8080/"
    },
    "id": "PMBgl2HbkV8v",
    "outputId": "0cc0695b-64bc-4ce1-ff5b-65d45ad94e5e"
   },
   "outputs": [
    {
     "data": {
      "text/plain": [
       "(768,)"
      ]
     },
     "execution_count": 10,
     "metadata": {},
     "output_type": "execute_result"
    }
   ],
   "source": [
    "y.shape"
   ]
  },
  {
   "cell_type": "code",
   "execution_count": null,
   "metadata": {
    "colab": {
     "base_uri": "https://localhost:8080/"
    },
    "id": "3YOo6sUHbCwj",
    "outputId": "3bf19fba-bb96-42fa-a79d-fd0366405855"
   },
   "outputs": [
    {
     "data": {
      "text/plain": [
       "100    1\n",
       "101    0\n",
       "102    0\n",
       "103    0\n",
       "104    0\n",
       "105    0\n",
       "106    0\n",
       "107    0\n",
       "108    0\n",
       "109    1\n",
       "Name: Outcome, dtype: int64"
      ]
     },
     "execution_count": 11,
     "metadata": {},
     "output_type": "execute_result"
    }
   ],
   "source": [
    "y[100:110]"
   ]
  },
  {
   "cell_type": "code",
   "execution_count": null,
   "metadata": {
    "id": "NZW4QYg8kXg-"
   },
   "outputs": [],
   "source": [
    "from sklearn import preprocessing\n",
    "from sklearn.model_selection import train_test_split"
   ]
  },
  {
   "cell_type": "code",
   "execution_count": null,
   "metadata": {
    "id": "udjsc7OCkgcR"
   },
   "outputs": [],
   "source": [
    "from sklearn.preprocessing import MinMaxScaler\n",
    "scaler = MinMaxScaler()\n",
    "scaler.fit(x)\n",
    "norm_x = scaler.transform(x)\n",
    "x_train,x_test,y_train,y_test=train_test_split(norm_x,y,test_size=0.20,random_state=10)"
   ]
  },
  {
   "cell_type": "code",
   "execution_count": null,
   "metadata": {
    "id": "iZRU-Lf6ASbZ"
   },
   "outputs": [],
   "source": []
  },
  {
   "cell_type": "code",
   "execution_count": null,
   "metadata": {
    "colab": {
     "base_uri": "https://localhost:8080/"
    },
    "id": "SKrlox1Lkj9I",
    "outputId": "034ea2b6-c4ff-426c-f8f5-db62f65cc04b"
   },
   "outputs": [
    {
     "name": "stdout",
     "output_type": "stream",
     "text": [
      "(614, 8)\n",
      "(614,)\n",
      "(154, 8)\n",
      "(154,)\n"
     ]
    }
   ],
   "source": [
    "print(x_train.shape)\n",
    "print(y_train.shape)\n",
    "print(x_test.shape)\n",
    "print(y_test.shape)"
   ]
  },
  {
   "cell_type": "code",
   "execution_count": null,
   "metadata": {
    "colab": {
     "base_uri": "https://localhost:8080/"
    },
    "id": "JyYVRvtXk0xf",
    "outputId": "5a9a6a92-fb84-4cde-de6e-f5773a580f1a"
   },
   "outputs": [
    {
     "data": {
      "text/plain": [
       "120    1\n",
       "172    0\n",
       "307    0\n",
       "7      0\n",
       "448    1\n",
       "1      0\n",
       "538    0\n",
       "469    0\n",
       "102    0\n",
       "510    1\n",
       "Name: Outcome, dtype: int64"
      ]
     },
     "execution_count": 15,
     "metadata": {},
     "output_type": "execute_result"
    }
   ],
   "source": [
    "y_train[:10]"
   ]
  },
  {
   "cell_type": "code",
   "execution_count": null,
   "metadata": {
    "id": "ilU_YIyHkmae"
   },
   "outputs": [],
   "source": [
    "y_train=to_categorical(y_train,2)\n",
    "y_test=to_categorical(y_test,2)"
   ]
  },
  {
   "cell_type": "code",
   "execution_count": null,
   "metadata": {
    "id": "i4j3Tve1kyLh"
   },
   "outputs": [],
   "source": []
  },
  {
   "cell_type": "code",
   "execution_count": null,
   "metadata": {
    "colab": {
     "base_uri": "https://localhost:8080/"
    },
    "id": "AQ1hnllkkmgY",
    "outputId": "d224aa9d-3c04-4a93-823e-fec29c405911"
   },
   "outputs": [
    {
     "data": {
      "text/plain": [
       "array([[0., 1.],\n",
       "       [1., 0.],\n",
       "       [1., 0.],\n",
       "       [1., 0.],\n",
       "       [0., 1.],\n",
       "       [1., 0.],\n",
       "       [1., 0.],\n",
       "       [1., 0.],\n",
       "       [1., 0.],\n",
       "       [0., 1.]], dtype=float32)"
      ]
     },
     "execution_count": 17,
     "metadata": {},
     "output_type": "execute_result"
    }
   ],
   "source": [
    "y_train[:10]"
   ]
  },
  {
   "cell_type": "code",
   "execution_count": null,
   "metadata": {
    "colab": {
     "base_uri": "https://localhost:8080/"
    },
    "id": "hpzh3ButlB7u",
    "outputId": "ca995958-0880-4608-ca7b-d7f89ac1fb48"
   },
   "outputs": [
    {
     "name": "stdout",
     "output_type": "stream",
     "text": [
      "(614, 8)\n",
      "(614, 2)\n"
     ]
    }
   ],
   "source": [
    "print(x_train.shape)\n",
    "print(y_train.shape)"
   ]
  },
  {
   "cell_type": "code",
   "execution_count": null,
   "metadata": {
    "colab": {
     "base_uri": "https://localhost:8080/"
    },
    "id": "ocIElV3ilJYY",
    "outputId": "06d775f2-b006-42a9-bf5f-4305ee74058e"
   },
   "outputs": [
    {
     "name": "stdout",
     "output_type": "stream",
     "text": [
      "Model: \"sequential\"\n",
      "_________________________________________________________________\n",
      " Layer (type)                Output Shape              Param #   \n",
      "=================================================================\n",
      " layer1 (Dense)              (None, 32)                288       \n",
      "                                                                 \n",
      " dropout (Dropout)           (None, 32)                0         \n",
      "                                                                 \n",
      " layer2 (Dense)              (None, 16)                528       \n",
      "                                                                 \n",
      " dropout_1 (Dropout)         (None, 16)                0         \n",
      "                                                                 \n",
      " layer3 (Dense)              (None, 8)                 136       \n",
      "                                                                 \n",
      " dropout_2 (Dropout)         (None, 8)                 0         \n",
      "                                                                 \n",
      " dense (Dense)               (None, 2)                 18        \n",
      "                                                                 \n",
      "=================================================================\n",
      "Total params: 970\n",
      "Trainable params: 970\n",
      "Non-trainable params: 0\n",
      "_________________________________________________________________\n"
     ]
    }
   ],
   "source": [
    "model=Sequential()\n",
    "layer1=Dense(32,activation='relu',input_shape=(8,),name=\"layer1\")\n",
    "model.add(layer1)\n",
    "model.add(Dropout(0.2))\n",
    "layer2=Dense(16,activation='relu',name=\"layer2\")\n",
    "model.add(layer2)\n",
    "model.add(Dropout(0.2))\n",
    "layer3=Dense(8,activation='relu',name=\"layer3\")\n",
    "model.add(layer3)\n",
    "model.add(Dropout(0.2))\n",
    "model.add(Dense(2,activation='softmax'))\n",
    "model.summary()"
   ]
  },
  {
   "cell_type": "code",
   "execution_count": null,
   "metadata": {
    "id": "FWgu-G4ulSHd"
   },
   "outputs": [],
   "source": [
    "model.compile(loss='categorical_crossentropy',optimizer='adam',metrics=['accuracy'])"
   ]
  },
  {
   "cell_type": "markdown",
   "metadata": {
    "id": "e6FB-fjTVLTh"
   },
   "source": [
    "**Early Stopping Regularization**"
   ]
  },
  {
   "cell_type": "code",
   "execution_count": null,
   "metadata": {
    "id": "UzBBCFKxVDBA"
   },
   "outputs": [],
   "source": [
    "from tensorflow.keras.callbacks import EarlyStopping\n",
    "\n",
    "early_stopping = EarlyStopping(monitor='val_loss', patience=2)\n"
   ]
  },
  {
   "cell_type": "code",
   "execution_count": null,
   "metadata": {
    "colab": {
     "base_uri": "https://localhost:8080/"
    },
    "id": "qw6BMyK_lZCu",
    "outputId": "115e65dd-6a2f-49df-ef38-aa88f349df36"
   },
   "outputs": [
    {
     "name": "stdout",
     "output_type": "stream",
     "text": [
      "Epoch 1/100\n",
      "62/62 [==============================] - 1s 5ms/step - loss: 0.6683 - accuracy: 0.6352 - val_loss: 0.6568 - val_accuracy: 0.6234\n",
      "Epoch 2/100\n",
      "62/62 [==============================] - 0s 2ms/step - loss: 0.6531 - accuracy: 0.6564 - val_loss: 0.6466 - val_accuracy: 0.6169\n",
      "Epoch 3/100\n",
      "62/62 [==============================] - 0s 2ms/step - loss: 0.6306 - accuracy: 0.6580 - val_loss: 0.6407 - val_accuracy: 0.6169\n",
      "Epoch 4/100\n",
      "62/62 [==============================] - 0s 2ms/step - loss: 0.6365 - accuracy: 0.6629 - val_loss: 0.6347 - val_accuracy: 0.6169\n",
      "Epoch 5/100\n",
      "62/62 [==============================] - 0s 2ms/step - loss: 0.6191 - accuracy: 0.6596 - val_loss: 0.6295 - val_accuracy: 0.6169\n",
      "Epoch 6/100\n",
      "62/62 [==============================] - 0s 3ms/step - loss: 0.6068 - accuracy: 0.6824 - val_loss: 0.6240 - val_accuracy: 0.6169\n",
      "Epoch 7/100\n",
      "62/62 [==============================] - 0s 2ms/step - loss: 0.5985 - accuracy: 0.6922 - val_loss: 0.6283 - val_accuracy: 0.6169\n",
      "Epoch 8/100\n",
      "62/62 [==============================] - 0s 2ms/step - loss: 0.5883 - accuracy: 0.6743 - val_loss: 0.6151 - val_accuracy: 0.6364\n",
      "Epoch 9/100\n",
      "62/62 [==============================] - 0s 2ms/step - loss: 0.5797 - accuracy: 0.6857 - val_loss: 0.6000 - val_accuracy: 0.6299\n",
      "Epoch 10/100\n",
      "62/62 [==============================] - 0s 3ms/step - loss: 0.5628 - accuracy: 0.7085 - val_loss: 0.5863 - val_accuracy: 0.6299\n",
      "Epoch 11/100\n",
      "62/62 [==============================] - 0s 2ms/step - loss: 0.5697 - accuracy: 0.6954 - val_loss: 0.5787 - val_accuracy: 0.6494\n",
      "Epoch 12/100\n",
      "62/62 [==============================] - 0s 2ms/step - loss: 0.5518 - accuracy: 0.7215 - val_loss: 0.5784 - val_accuracy: 0.6494\n",
      "Epoch 13/100\n",
      "62/62 [==============================] - 0s 2ms/step - loss: 0.5493 - accuracy: 0.7150 - val_loss: 0.5643 - val_accuracy: 0.6948\n",
      "Epoch 14/100\n",
      "62/62 [==============================] - 0s 2ms/step - loss: 0.5521 - accuracy: 0.6938 - val_loss: 0.5642 - val_accuracy: 0.6753\n",
      "Epoch 15/100\n",
      "62/62 [==============================] - 0s 3ms/step - loss: 0.5385 - accuracy: 0.7248 - val_loss: 0.5572 - val_accuracy: 0.6818\n",
      "Epoch 16/100\n",
      "62/62 [==============================] - 0s 2ms/step - loss: 0.5377 - accuracy: 0.7296 - val_loss: 0.5534 - val_accuracy: 0.6948\n",
      "Epoch 17/100\n",
      "62/62 [==============================] - 0s 3ms/step - loss: 0.5446 - accuracy: 0.7150 - val_loss: 0.5473 - val_accuracy: 0.6948\n",
      "Epoch 18/100\n",
      "62/62 [==============================] - 0s 2ms/step - loss: 0.5202 - accuracy: 0.7296 - val_loss: 0.5563 - val_accuracy: 0.6948\n",
      "Epoch 19/100\n",
      "62/62 [==============================] - 0s 2ms/step - loss: 0.5071 - accuracy: 0.7492 - val_loss: 0.5382 - val_accuracy: 0.6883\n",
      "Epoch 20/100\n",
      "62/62 [==============================] - 0s 2ms/step - loss: 0.5219 - accuracy: 0.7313 - val_loss: 0.5368 - val_accuracy: 0.6818\n",
      "Epoch 21/100\n",
      "62/62 [==============================] - 0s 3ms/step - loss: 0.5039 - accuracy: 0.7492 - val_loss: 0.5577 - val_accuracy: 0.7013\n",
      "Epoch 22/100\n",
      "62/62 [==============================] - 0s 2ms/step - loss: 0.5131 - accuracy: 0.7459 - val_loss: 0.5250 - val_accuracy: 0.7013\n",
      "Epoch 23/100\n",
      "62/62 [==============================] - 0s 2ms/step - loss: 0.5075 - accuracy: 0.7622 - val_loss: 0.5175 - val_accuracy: 0.7078\n",
      "Epoch 24/100\n",
      "62/62 [==============================] - 0s 2ms/step - loss: 0.5028 - accuracy: 0.7622 - val_loss: 0.5145 - val_accuracy: 0.7143\n",
      "Epoch 25/100\n",
      "62/62 [==============================] - 0s 2ms/step - loss: 0.5053 - accuracy: 0.7394 - val_loss: 0.5154 - val_accuracy: 0.7143\n",
      "Epoch 26/100\n",
      "62/62 [==============================] - 0s 2ms/step - loss: 0.5233 - accuracy: 0.7541 - val_loss: 0.5372 - val_accuracy: 0.7143\n"
     ]
    }
   ],
   "source": [
    "history=model.fit(x_train,y_train,shuffle='True',validation_data=(x_test,y_test),batch_size=10,epochs=100,callbacks=[early_stopping])"
   ]
  },
  {
   "cell_type": "markdown",
   "metadata": {
    "id": "pnoslIQsUOyf"
   },
   "source": [
    "**Getting Intermediate Values and weights**"
   ]
  },
  {
   "cell_type": "code",
   "execution_count": null,
   "metadata": {
    "colab": {
     "base_uri": "https://localhost:8080/"
    },
    "id": "miMNmdf5UNrx",
    "outputId": "bacffcba-e77e-414a-d8ea-581d19df4435"
   },
   "outputs": [
    {
     "data": {
      "text/plain": [
       "<bound method Layer.get_weights of <keras.layers.core.dense.Dense object at 0x7f839c371430>>"
      ]
     },
     "execution_count": 23,
     "metadata": {},
     "output_type": "execute_result"
    }
   ],
   "source": [
    "layer1.get_weights"
   ]
  },
  {
   "cell_type": "code",
   "execution_count": null,
   "metadata": {
    "colab": {
     "base_uri": "https://localhost:8080/"
    },
    "id": "255OHHbzXSBJ",
    "outputId": "c35edff8-fdba-4833-d1bc-b115afe659c1"
   },
   "outputs": [
    {
     "data": {
      "text/plain": [
       "<bound method Layer.get_input_at of <keras.layers.core.dense.Dense object at 0x7f839c371430>>"
      ]
     },
     "execution_count": 24,
     "metadata": {},
     "output_type": "execute_result"
    }
   ],
   "source": [
    "layer1.get_input_at"
   ]
  },
  {
   "cell_type": "markdown",
   "metadata": {
    "id": "6j9Ma4J3N2t3"
   },
   "source": [
    "**Model Saving**"
   ]
  },
  {
   "cell_type": "code",
   "execution_count": null,
   "metadata": {
    "id": "8d7PgV9EN9Se"
   },
   "outputs": [],
   "source": [
    "model.save('./drive/MyDrive/Dataset/NNDiabetes', save_format='h5')"
   ]
  },
  {
   "cell_type": "markdown",
   "metadata": {
    "id": "DXg-j5JlO6S_"
   },
   "source": [
    "# **Model Loading**"
   ]
  },
  {
   "cell_type": "code",
   "execution_count": null,
   "metadata": {
    "id": "MqtnXIhlO5mH"
   },
   "outputs": [],
   "source": [
    "from tensorflow.keras.models import load_model\n",
    "# returns a compiled model\n",
    "# identical to the previous one\n",
    "model123 = load_model('./drive/MyDrive/Dataset/NNDiabetes')"
   ]
  },
  {
   "cell_type": "code",
   "execution_count": null,
   "metadata": {
    "colab": {
     "base_uri": "https://localhost:8080/"
    },
    "id": "2MMSIfIDPQZQ",
    "outputId": "33a0ff60-bb99-438d-e884-e7f557002b6f"
   },
   "outputs": [
    {
     "name": "stdout",
     "output_type": "stream",
     "text": [
      "Model: \"sequential\"\n",
      "_________________________________________________________________\n",
      " Layer (type)                Output Shape              Param #   \n",
      "=================================================================\n",
      " layer1 (Dense)              (None, 32)                288       \n",
      "                                                                 \n",
      " dropout (Dropout)           (None, 32)                0         \n",
      "                                                                 \n",
      " layer2 (Dense)              (None, 16)                528       \n",
      "                                                                 \n",
      " dropout_1 (Dropout)         (None, 16)                0         \n",
      "                                                                 \n",
      " layer3 (Dense)              (None, 8)                 136       \n",
      "                                                                 \n",
      " dropout_2 (Dropout)         (None, 8)                 0         \n",
      "                                                                 \n",
      " dense (Dense)               (None, 2)                 18        \n",
      "                                                                 \n",
      "=================================================================\n",
      "Total params: 970\n",
      "Trainable params: 970\n",
      "Non-trainable params: 0\n",
      "_________________________________________________________________\n"
     ]
    }
   ],
   "source": [
    "model123.summary()"
   ]
  },
  {
   "cell_type": "code",
   "execution_count": null,
   "metadata": {
    "colab": {
     "base_uri": "https://localhost:8080/",
     "height": 865
    },
    "id": "gJ2VMJMckK2G",
    "outputId": "aa5be22c-51e6-4fca-cbc3-84ef93a0f9a4"
   },
   "outputs": [
    {
     "data": {
      "image/png": "[encoded data removed]",
      "text/plain": [
       "<IPython.core.display.Image object>"
      ]
     },
     "execution_count": 28,
     "metadata": {},
     "output_type": "execute_result"
    }
   ],
   "source": [
    "tf.keras.utils.plot_model(model, to_file=\"./drive/MyDrive/Dataset/diabetesmodel.png\", show_shapes=True)"
   ]
  },
  {
   "cell_type": "code",
   "execution_count": null,
   "metadata": {
    "id": "lYjNA3_SlyDG"
   },
   "outputs": [],
   "source": [
    "import matplotlib.pyplot as plt"
   ]
  },
  {
   "cell_type": "code",
   "execution_count": null,
   "metadata": {
    "colab": {
     "base_uri": "https://localhost:8080/",
     "height": 279
    },
    "id": "eP_SD7m3l2YV",
    "outputId": "5fb27eb4-a221-411b-f58b-01be170a58e1"
   },
   "outputs": [
    {
     "data": {
      "image/png": "[encoded data removed]",
      "text/plain": [
       "<Figure size 432x288 with 1 Axes>"
      ]
     },
     "metadata": {
      "needs_background": "light"
     },
     "output_type": "display_data"
    }
   ],
   "source": [
    "loss=history.history['loss']\n",
    "epoch=range(1,len(loss)+1)\n",
    "plt.plot(epoch,history.history['accuracy'],label='training')\n",
    "plt.plot(epoch,history.history['val_accuracy'],label='validation')\n",
    "plt.xlabel('Epoch')\n",
    "plt.ylabel('Accuracy')\n",
    "plt.legend()\n",
    "plt.show()"
   ]
  },
  {
   "cell_type": "code",
   "execution_count": null,
   "metadata": {
    "colab": {
     "base_uri": "https://localhost:8080/",
     "height": 281
    },
    "id": "4kppUECGl7_j",
    "outputId": "9991df74-51d4-4dc0-b174-4f06f33206f3"
   },
   "outputs": [
    {
     "data": {
      "image/png": "[encoded data removed]",
      "text/plain": [
       "<Figure size 432x288 with 1 Axes>"
      ]
     },
     "metadata": {
      "needs_background": "light"
     },
     "output_type": "display_data"
    }
   ],
   "source": [
    "plt.plot(epoch,history.history['loss'],label='training')\n",
    "plt.plot(epoch,history.history['val_loss'],label='validation')\n",
    "plt.xlabel('Epoch')\n",
    "plt.ylabel('Loss')\n",
    "plt.legend()\n",
    "plt.show()"
   ]
  },
  {
   "cell_type": "code",
   "execution_count": null,
   "metadata": {
    "colab": {
     "base_uri": "https://localhost:8080/"
    },
    "id": "LSg0DZrmmSBd",
    "outputId": "5ba02cfd-87d1-4404-d72b-f865a180c2a6"
   },
   "outputs": [
    {
     "name": "stdout",
     "output_type": "stream",
     "text": [
      "total loss 0.5372309684753418\n",
      "test accuracy 0.7142857313156128\n"
     ]
    }
   ],
   "source": [
    "score=model.evaluate(x_test,y_test,verbose=0)\n",
    "print('total loss',score[0])\n",
    "print('test accuracy',score[1])"
   ]
  },
  {
   "cell_type": "code",
   "execution_count": null,
   "metadata": {
    "colab": {
     "base_uri": "https://localhost:8080/"
    },
    "id": "cqdCE3W4m_oK",
    "outputId": "c5f480a4-a91b-407b-b159-9300134d8950"
   },
   "outputs": [
    {
     "data": {
      "text/plain": [
       "[0.5372309684753418, 0.7142857313156128]"
      ]
     },
     "execution_count": 33,
     "metadata": {},
     "output_type": "execute_result"
    }
   ],
   "source": [
    "score"
   ]
  },
  {
   "cell_type": "code",
   "execution_count": null,
   "metadata": {
    "id": "nxCvDkrkmafQ"
   },
   "outputs": [],
   "source": [
    "from sklearn.metrics import confusion_matrix"
   ]
  },
  {
   "cell_type": "code",
   "execution_count": null,
   "metadata": {
    "colab": {
     "base_uri": "https://localhost:8080/"
    },
    "id": "vf43IDkFmd04",
    "outputId": "4b35607c-f4db-4c64-e005-5f745dc05665"
   },
   "outputs": [
    {
     "name": "stdout",
     "output_type": "stream",
     "text": [
      "5/5 [==============================] - 0s 2ms/step\n",
      "Label of the first 5  prediction  [1 0 1 0 0]\n",
      "label of the first 5  original  [0 0 0 1 0]\n"
     ]
    }
   ],
   "source": [
    "y_pred=model.predict(x_test)\n",
    "pred=np.argmax(y_pred,axis=1)[:5]\n",
    "label=np.argmax(y_test,axis=1)[:5]\n",
    "print(\"Label of the first 5  prediction \",pred)\n",
    "print(\"label of the first 5  original \",label)"
   ]
  },
  {
   "cell_type": "code",
   "execution_count": null,
   "metadata": {
    "id": "ubLZxgP6mnXA"
   },
   "outputs": [],
   "source": [
    "y_testnew=np.argmax(y_test,axis=1)\n",
    "y_prednew=np.argmax(y_pred,axis=1)"
   ]
  },
  {
   "cell_type": "code",
   "execution_count": null,
   "metadata": {
    "colab": {
     "base_uri": "https://localhost:8080/"
    },
    "id": "Lh5HXZNNmqsA",
    "outputId": "bb415b1a-498f-487a-edb1-779c333d2163"
   },
   "outputs": [
    {
     "data": {
      "text/plain": [
       "array([[81, 14],\n",
       "       [30, 29]])"
      ]
     },
     "execution_count": 37,
     "metadata": {},
     "output_type": "execute_result"
    }
   ],
   "source": [
    "cf_matrix = confusion_matrix(y_testnew,y_prednew)\n",
    "cf_matrix"
   ]
  },
  {
   "cell_type": "code",
   "execution_count": null,
   "metadata": {
    "colab": {
     "base_uri": "https://localhost:8080/",
     "height": 309
    },
    "id": "iFSwBIILy1Br",
    "outputId": "08a44f17-ed3d-4ff6-9231-7f627dbee870"
   },
   "outputs": [
    {
     "data": {
      "image/png": "[encoded data removed]",
      "text/plain": [
       "<Figure size 432x288 with 2 Axes>"
      ]
     },
     "metadata": {
      "needs_background": "light"
     },
     "output_type": "display_data"
    }
   ],
   "source": [
    "heatmap = sns.heatmap(cf_matrix, annot=True, fmt=\"d\")\n",
    "plt.xlabel('Predicted',fontsize=20)\n",
    "plt.ylabel('Actual',fontsize=20)\n",
    "plt.title('Accuracy Score   {0}'.format(score),fontsize=20)\n",
    "plt.show()\n"
   ]
  },
  {
   "cell_type": "code",
   "execution_count": null,
   "metadata": {
    "colab": {
     "base_uri": "https://localhost:8080/"
    },
    "id": "CKHl0K_Lm5HW",
    "outputId": "92c6f317-da49-4071-c21b-d292652089eb"
   },
   "outputs": [
    {
     "data": {
      "text/plain": [
       "dict_keys(['loss', 'accuracy', 'val_loss', 'val_accuracy'])"
      ]
     },
     "execution_count": 39,
     "metadata": {},
     "output_type": "execute_result"
    }
   ],
   "source": [
    "history.history.keys()"
   ]
  },
  {
   "cell_type": "markdown",
   "metadata": {
    "id": "fLRCEyO3afpy"
   },
   "source": [
    "# **FEATURE EXTRACTION and learning by tracking each layer**"
   ]
  },
  {
   "cell_type": "code",
   "execution_count": null,
   "metadata": {
    "colab": {
     "base_uri": "https://localhost:8080/"
    },
    "id": "VWjsYDHUA0J4",
    "outputId": "d75e29a1-dc83-4ad1-8e12-0eff27ed797f"
   },
   "outputs": [
    {
     "data": {
      "text/plain": [
       "array([0.23529412, 0.77386935, 0.59016393, 0.29292929, 0.14893617,\n",
       "       0.46646796, 0.11101623, 0.26666667])"
      ]
     },
     "execution_count": 47,
     "metadata": {},
     "output_type": "execute_result"
    }
   ],
   "source": [
    "x_test[0]"
   ]
  },
  {
   "cell_type": "code",
   "execution_count": null,
   "metadata": {
    "colab": {
     "base_uri": "https://localhost:8080/"
    },
    "id": "LpjuEhishUMa",
    "outputId": "cd910c71-c69d-487a-e1ad-fee9c7f29c2b"
   },
   "outputs": [
    {
     "name": "stdout",
     "output_type": "stream",
     "text": [
      "1/1 [==============================] - 0s 37ms/step\n",
      "(1, 32)\n"
     ]
    },
    {
     "data": {
      "text/plain": [
       "array([[0.147581  , 0.        , 0.        , 0.        , 0.09098625,\n",
       "        0.20252612, 0.        , 0.03032109, 0.        , 0.18125243,\n",
       "        0.03113205, 0.08583958, 0.        , 0.02712701, 0.21374166,\n",
       "        0.        , 0.05659674, 0.20233072, 0.        , 0.12559916,\n",
       "        0.        , 0.16366985, 0.        , 0.11148703, 0.        ,\n",
       "        0.01559343, 0.        , 0.19439109, 0.        , 0.        ,\n",
       "        0.        , 0.05511986]], dtype=float32)"
      ]
     },
     "execution_count": 49,
     "metadata": {},
     "output_type": "execute_result"
    }
   ],
   "source": [
    "output1=model.get_layer(\"layer1\").output \n",
    "intermediate_model=tf.keras.models.Model(inputs=model.input,outputs=output1)\n",
    "intermediate_prediction=intermediate_model.predict(x_test[0].reshape(1,8))\n",
    "print(intermediate_prediction.shape)\n",
    "intermediate_prediction"
   ]
  },
  {
   "cell_type": "code",
   "execution_count": null,
   "metadata": {
    "colab": {
     "base_uri": "https://localhost:8080/"
    },
    "id": "hSwODWTInA_d",
    "outputId": "259197bb-1bf1-4d9d-9857-d3de3decd509"
   },
   "outputs": [
    {
     "name": "stdout",
     "output_type": "stream",
     "text": [
      "1/1 [==============================] - 0s 43ms/step\n",
      "(1, 16)\n"
     ]
    },
    {
     "data": {
      "text/plain": [
       "array([[0.25845945, 0.        , 0.        , 0.        , 0.07510594,\n",
       "        0.        , 0.18237999, 0.        , 0.        , 0.        ,\n",
       "        0.25109708, 0.        , 0.        , 0.        , 0.12532414,\n",
       "        0.        ]], dtype=float32)"
      ]
     },
     "execution_count": 50,
     "metadata": {},
     "output_type": "execute_result"
    }
   ],
   "source": [
    "output2=model.get_layer(\"layer2\").output \n",
    "intermediate_model=tf.keras.models.Model(inputs=model.input,outputs=output2)\n",
    "intermediate_prediction=intermediate_model.predict(x_test[0].reshape(1,8))\n",
    "print(intermediate_prediction.shape)\n",
    "intermediate_prediction"
   ]
  },
  {
   "cell_type": "code",
   "execution_count": null,
   "metadata": {
    "colab": {
     "base_uri": "https://localhost:8080/"
    },
    "id": "aSomuNvFcmP7",
    "outputId": "cdd201b3-b814-4e50-f5ee-7348f89b4f42"
   },
   "outputs": [
    {
     "name": "stdout",
     "output_type": "stream",
     "text": [
      "1/1 [==============================] - 0s 51ms/step\n",
      "(1, 8)\n"
     ]
    },
    {
     "data": {
      "text/plain": [
       "array([[0.        , 0.        , 0.27130523, 0.        , 0.33815414,\n",
       "        0.16031784, 0.        , 0.00459765]], dtype=float32)"
      ]
     },
     "execution_count": 51,
     "metadata": {},
     "output_type": "execute_result"
    }
   ],
   "source": [
    "output3=model.get_layer(\"layer3\").output \n",
    "intermediate_model=tf.keras.models.Model(inputs=model.input,outputs=output3)\n",
    "intermediate_prediction=intermediate_model.predict(x_test[0].reshape(1,8))\n",
    "print(intermediate_prediction.shape)\n",
    "intermediate_prediction"
   ]
  },
  {
   "cell_type": "markdown",
   "metadata": {
    "id": "SQ-lOv3vYcQ5"
   },
   "source": [
    "# **Transfer learning with a Sequential model**"
   ]
  },
  {
   "cell_type": "markdown",
   "metadata": {
    "id": "TJJw1-pGYlxp"
   },
   "source": [
    "Transfer learning consists of freezing the bottom layers in a model and only training the top layers. If you aren't familiar with it, make sure to read our guide to transfer learning.\n",
    "\n",
    "Here are two common transfer learning blueprint involving Sequential models.\n",
    "\n",
    "First, let's say that you have a Sequential model, and you want to freeze all layers except the last one. In this case, you would simply iterate over model.layers and set layer.trainable = False on each layer, except the last one. Like this:"
   ]
  },
  {
   "cell_type": "code",
   "execution_count": null,
   "metadata": {
    "colab": {
     "base_uri": "https://localhost:8080/",
     "height": 237
    },
    "id": "OAzmBZ5eYgLZ",
    "outputId": "c7f44b97-8986-4027-bfcd-e6a84b9519e4"
   },
   "outputs": [
    {
     "ename": "NameError",
     "evalue": "ignored",
     "output_type": "error",
     "traceback": [
      "\u001b[0;31m---------------------------------------------------------------------------\u001b[0m",
      "\u001b[0;31mNameError\u001b[0m                                 Traceback (most recent call last)",
      "\u001b[0;32m<ipython-input-52-80ae713e64a5>\u001b[0m in \u001b[0;36m<module>\u001b[0;34m\u001b[0m\n\u001b[1;32m      1\u001b[0m model = keras.Sequential([\n\u001b[1;32m      2\u001b[0m     \u001b[0mkeras\u001b[0m\u001b[0;34m.\u001b[0m\u001b[0mInput\u001b[0m\u001b[0;34m(\u001b[0m\u001b[0mshape\u001b[0m\u001b[0;34m=\u001b[0m\u001b[0;34m(\u001b[0m\u001b[0;36m784\u001b[0m\u001b[0;34m)\u001b[0m\u001b[0;34m)\u001b[0m\u001b[0;34m,\u001b[0m\u001b[0;34m\u001b[0m\u001b[0;34m\u001b[0m\u001b[0m\n\u001b[0;32m----> 3\u001b[0;31m     \u001b[0mlayers\u001b[0m\u001b[0;34m.\u001b[0m\u001b[0mDense\u001b[0m\u001b[0;34m(\u001b[0m\u001b[0;36m32\u001b[0m\u001b[0;34m,\u001b[0m \u001b[0mactivation\u001b[0m\u001b[0;34m=\u001b[0m\u001b[0;34m'relu'\u001b[0m\u001b[0;34m)\u001b[0m\u001b[0;34m,\u001b[0m\u001b[0;34m\u001b[0m\u001b[0;34m\u001b[0m\u001b[0m\n\u001b[0m\u001b[1;32m      4\u001b[0m     \u001b[0mlayers\u001b[0m\u001b[0;34m.\u001b[0m\u001b[0mDense\u001b[0m\u001b[0;34m(\u001b[0m\u001b[0;36m32\u001b[0m\u001b[0;34m,\u001b[0m \u001b[0mactivation\u001b[0m\u001b[0;34m=\u001b[0m\u001b[0;34m'relu'\u001b[0m\u001b[0;34m)\u001b[0m\u001b[0;34m,\u001b[0m\u001b[0;34m\u001b[0m\u001b[0;34m\u001b[0m\u001b[0m\n\u001b[1;32m      5\u001b[0m     \u001b[0mlayers\u001b[0m\u001b[0;34m.\u001b[0m\u001b[0mDense\u001b[0m\u001b[0;34m(\u001b[0m\u001b[0;36m32\u001b[0m\u001b[0;34m,\u001b[0m \u001b[0mactivation\u001b[0m\u001b[0;34m=\u001b[0m\u001b[0;34m'relu'\u001b[0m\u001b[0;34m)\u001b[0m\u001b[0;34m,\u001b[0m\u001b[0;34m\u001b[0m\u001b[0;34m\u001b[0m\u001b[0m\n",
      "\u001b[0;31mNameError\u001b[0m: name 'layers' is not defined"
     ]
    }
   ],
   "source": [
    "model = keras.Sequential([\n",
    "    keras.Input(shape=(784)),\n",
    "    layers.Dense(32, activation='relu'),\n",
    "    layers.Dense(32, activation='relu'),\n",
    "    layers.Dense(32, activation='relu'),\n",
    "    layers.Dense(10),\n",
    "])\n",
    "\n",
    "# Presumably you would want to first load pre-trained weights.\n",
    "model.load_weights(...)\n",
    "\n",
    "# Freeze all layers except the last one.\n",
    "for layer in model.layers[:-1]:\n",
    "  layer.trainable = False\n",
    "\n",
    "# Recompile and train (this will only update the weights of the last layer).\n",
    "model.compile(...)\n",
    "model.fit(...)"
   ]
  }
 ],
 "metadata": {
  "colab": {
   "collapsed_sections": [
    "DXg-j5JlO6S_",
    "fLRCEyO3afpy",
    "SQ-lOv3vYcQ5"
   ],
   "provenance": []
  },
  "kernelspec": {
   "display_name": "Python 3 (ipykernel)",
   "language": "python",
   "name": "python3"
  },
  "language_info": {
   "codemirror_mode": {
    "name": "ipython",
    "version": 3
   },
   "file_extension": ".py",
   "mimetype": "text/x-python",
   "name": "python",
   "nbconvert_exporter": "python",
   "pygments_lexer": "ipython3",
   "version": "3.9.7"
  }
 },
 "nbformat": 4,
 "nbformat_minor": 1
}
