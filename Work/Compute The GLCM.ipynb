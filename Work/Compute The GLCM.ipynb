{
 "cells": [
  {
   "cell_type": "code",
   "execution_count": 1,
   "id": "1556dfa1-cdc8-4c01-95bd-08065bdc2daf",
   "metadata": {},
   "outputs": [],
   "source": [
    "import os\n",
    "import numpy as np\n",
    "from PIL import Image\n",
    "from skimage.feature import graycomatrix\n",
    "from skimage import img_as_ubyte\n",
    "import shutil\n"
   ]
  },
  {
   "cell_type": "code",
   "execution_count": 2,
   "id": "a841baac-d476-4f26-9d7c-a3f3a736f75e",
   "metadata": {},
   "outputs": [],
   "source": [
    "def compute_and_save_glcm(input_folder, output_folder, num_images):\n",
    "    if not os.path.exists(output_folder):\n",
    "        os.makedirs(output_folder)\n",
    "    \n",
    "    # Get list of image files from input folder\n",
    "    image_files = [f for f in os.listdir(input_folder) if f.lower().endswith(('.png', '.jpg', '.jpeg'))]\n",
    "    \n",
    "    if len(image_files) < num_images:\n",
    "        raise ValueError(f\"Not enough images in the folder. Found {len(image_files)}, but need {num_images}.\")\n",
    "    \n",
    "    image_files = image_files[:num_images]\n",
    "    \n",
    "    for image_file in image_files:\n",
    "        image_path = os.path.join(input_folder, image_file)\n",
    "        # Load image and convert to grayscale\n",
    "        with Image.open(image_path) as img:\n",
    "            img_gray = img.convert('L')  # Convert to grayscale\n",
    "            img_array = np.array(img_gray)\n",
    "        \n",
    "        # Compute GLCM\n",
    "        glcm = graycomatrix(img_array, distances=[1], angles=[0], symmetric=True, normed=True)\n",
    "        \n",
    "        # Normalize GLCM values to range [0, 255] for image saving\n",
    "        glcm_image = img_as_ubyte(np.squeeze(glcm))\n",
    "        \n",
    "        # Convert GLCM to an image\n",
    "        glcm_image = Image.fromarray(glcm_image)\n",
    "        \n",
    "        # Save GLCM as PNG image\n",
    "        glcm_path = os.path.join(output_folder, f\"{os.path.splitext(image_file)[0]}_glcm.png\")\n",
    "        glcm_image.save(glcm_path)\n",
    "    \n",
    "    print(f\"GLCMs saved as PNG images in {output_folder}\")"
   ]
  },
  {
   "cell_type": "markdown",
   "id": "abde5134-22e8-4a0d-9b09-5db408eec7b8",
   "metadata": {},
   "source": [
    "# Compute GLCM for Test Dataset [Size = 400]"
   ]
  },
  {
   "cell_type": "code",
   "execution_count": 3,
   "id": "5b01d08d-b423-4bf9-a144-366115ab1db3",
   "metadata": {},
   "outputs": [
    {
     "name": "stdout",
     "output_type": "stream",
     "text": [
      "GLCMs saved as PNG images in Test500/boos_test/cover\n"
     ]
    }
   ],
   "source": [
    "# Example usage\n",
    "input_folder = 'boos_test/cover'\n",
    "output_folder = 'Test500/boos_test/cover'\n",
    "num_images = 100\n",
    "\n",
    "compute_and_save_glcm(input_folder, output_folder, num_images)\n"
   ]
  },
  {
   "cell_type": "code",
   "execution_count": 4,
   "id": "aa8ac20d-99e4-485e-8da8-25624d42fab6",
   "metadata": {},
   "outputs": [
    {
     "name": "stdout",
     "output_type": "stream",
     "text": [
      "GLCMs saved as PNG images in Test500/boos_test/stego\n"
     ]
    }
   ],
   "source": [
    "# Example usage\n",
    "input_folder = 'boos_test/stego'\n",
    "output_folder = 'Test500/boos_test/stego'\n",
    "num_images = 100\n",
    "\n",
    "compute_and_save_glcm(input_folder, output_folder, num_images)\n"
   ]
  },
  {
   "cell_type": "markdown",
   "id": "2292e3d2-10c4-43f7-b1b7-12f08ea75549",
   "metadata": {},
   "source": [
    "# Compute GLCM for Train Dataset [Size = 2000]"
   ]
  },
  {
   "cell_type": "code",
   "execution_count": 5,
   "id": "f00bb21e-575a-471f-b003-a0d6c8e99423",
   "metadata": {},
   "outputs": [
    {
     "name": "stdout",
     "output_type": "stream",
     "text": [
      "GLCMs saved as PNG images in Test500/boss_train/cover\n"
     ]
    }
   ],
   "source": [
    "# Example usage\n",
    "input_folder = 'boss_train/cover'\n",
    "output_folder = 'Test500/boss_train/cover'\n",
    "num_images = 500\n",
    "\n",
    "compute_and_save_glcm(input_folder, output_folder, num_images)\n"
   ]
  },
  {
   "cell_type": "code",
   "execution_count": 6,
   "id": "af3b5a5b-d851-422a-bbb5-3487c0e786e2",
   "metadata": {},
   "outputs": [
    {
     "name": "stdout",
     "output_type": "stream",
     "text": [
      "GLCMs saved as PNG images in Test500/boss_train/stego\n"
     ]
    }
   ],
   "source": [
    "# Example usage\n",
    "input_folder = 'boss_train/stego'\n",
    "output_folder = 'Test500/boss_train/stego'\n",
    "num_images = 500\n",
    "\n",
    "compute_and_save_glcm(input_folder, output_folder, num_images)\n"
   ]
  },
  {
   "cell_type": "code",
   "execution_count": null,
   "id": "722aa3e9-7097-4f95-a350-448c377eead3",
   "metadata": {},
   "outputs": [],
   "source": []
  },
  {
   "cell_type": "code",
   "execution_count": null,
   "id": "d682aa94-f62c-4b6f-9c7e-d5bbb7afe693",
   "metadata": {},
   "outputs": [],
   "source": []
  },
  {
   "cell_type": "code",
   "execution_count": null,
   "id": "0d50bdce-e1b0-4c2c-8fa9-b68bcfc6b0f5",
   "metadata": {},
   "outputs": [],
   "source": []
  },
  {
   "cell_type": "code",
   "execution_count": null,
   "id": "f9717121-60f6-4dd6-9f0b-04398cd5a28b",
   "metadata": {},
   "outputs": [],
   "source": []
  },
  {
   "cell_type": "code",
   "execution_count": null,
   "id": "a064ac6e-994a-47a2-83e5-d1ad5e836fd4",
   "metadata": {},
   "outputs": [],
   "source": []
  },
  {
   "cell_type": "code",
   "execution_count": null,
   "id": "dae657ba-d121-4136-9458-c08a451f399e",
   "metadata": {},
   "outputs": [],
   "source": []
  },
  {
   "cell_type": "code",
   "execution_count": null,
   "id": "c23e7f0f-3acd-4532-ab3b-6cabcafaa2e6",
   "metadata": {},
   "outputs": [],
   "source": []
  },
  {
   "cell_type": "code",
   "execution_count": null,
   "id": "1b6a42db-8104-47b4-b679-2daedc161d43",
   "metadata": {},
   "outputs": [],
   "source": []
  },
  {
   "cell_type": "code",
   "execution_count": null,
   "id": "05cf54ea-f50f-431c-8a1c-37f96e2fb9c4",
   "metadata": {},
   "outputs": [],
   "source": []
  },
  {
   "cell_type": "code",
   "execution_count": null,
   "id": "97c8ea9a-86e8-4a51-879d-9dc5c14b245c",
   "metadata": {},
   "outputs": [],
   "source": []
  },
  {
   "cell_type": "code",
   "execution_count": 11,
   "id": "feaf194a-44b9-4100-a580-776aa6a04e97",
   "metadata": {},
   "outputs": [],
   "source": [
    "import cv2"
   ]
  },
  {
   "cell_type": "code",
   "execution_count": 18,
   "id": "077ecc8c-91b4-4346-b617-1b0849d31def",
   "metadata": {},
   "outputs": [],
   "source": [
    "img = cv2.imread('Test500/boos_test/stego/9381_glcm.png',0)"
   ]
  },
  {
   "cell_type": "code",
   "execution_count": 19,
   "id": "83d4ae11-7922-4331-ba04-10fd0f184384",
   "metadata": {},
   "outputs": [
    {
     "data": {
      "text/plain": [
       "array([[0, 0, 0, ..., 0, 0, 0],\n",
       "       [0, 0, 0, ..., 0, 0, 0],\n",
       "       [0, 0, 0, ..., 0, 0, 0],\n",
       "       ...,\n",
       "       [0, 0, 0, ..., 0, 0, 0],\n",
       "       [0, 0, 0, ..., 0, 0, 0],\n",
       "       [0, 0, 0, ..., 0, 0, 0]], dtype=uint8)"
      ]
     },
     "execution_count": 19,
     "metadata": {},
     "output_type": "execute_result"
    }
   ],
   "source": [
    "img"
   ]
  },
  {
   "cell_type": "code",
   "execution_count": 20,
   "id": "72c872d8-fd2e-4664-b41f-05249e5a5400",
   "metadata": {},
   "outputs": [
    {
     "name": "stdout",
     "output_type": "stream",
     "text": [
      "[[0 0 0 ... 0 0 0]\n",
      " [0 0 0 ... 0 0 0]\n",
      " [0 0 0 ... 0 0 0]\n",
      " ...\n",
      " [0 0 0 ... 0 0 0]\n",
      " [0 0 0 ... 0 0 0]\n",
      " [0 0 0 ... 0 0 0]]\n"
     ]
    }
   ],
   "source": [
    "print(img)"
   ]
  },
  {
   "cell_type": "code",
   "execution_count": 24,
   "id": "0c7cb002-4cd9-41ec-9bfb-ac06db8832f0",
   "metadata": {},
   "outputs": [
    {
     "data": {
      "text/plain": [
       "114"
      ]
     },
     "execution_count": 24,
     "metadata": {},
     "output_type": "execute_result"
    }
   ],
   "source": [
    "np.count_nonzero(img != 0)"
   ]
  },
  {
   "cell_type": "code",
   "execution_count": 23,
   "id": "e14149ee-c909-414e-a919-bb0d06444eee",
   "metadata": {},
   "outputs": [
    {
     "name": "stdout",
     "output_type": "stream",
     "text": [
      "65536\n"
     ]
    }
   ],
   "source": [
    "print(256*256)"
   ]
  },
  {
   "cell_type": "code",
   "execution_count": null,
   "id": "da67c3c5-ae3c-4515-aa13-671cbe925737",
   "metadata": {},
   "outputs": [],
   "source": []
  }
 ],
 "metadata": {
  "kernelspec": {
   "display_name": "Python 3",
   "language": "python",
   "name": "python3"
  },
  "language_info": {
   "codemirror_mode": {
    "name": "ipython",
    "version": 3
   },
   "file_extension": ".py",
   "mimetype": "text/x-python",
   "name": "python",
   "nbconvert_exporter": "python",
   "pygments_lexer": "ipython3",
   "version": "3.9.0"
  }
 },
 "nbformat": 4,
 "nbformat_minor": 5
}
